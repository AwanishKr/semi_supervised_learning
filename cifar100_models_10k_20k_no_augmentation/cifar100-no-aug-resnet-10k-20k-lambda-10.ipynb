{
 "cells": [
  {
   "cell_type": "code",
   "execution_count": 1,
   "id": "5f7c17e7",
   "metadata": {
    "execution": {
     "iopub.execute_input": "2021-07-12T09:01:21.758319Z",
     "iopub.status.busy": "2021-07-12T09:01:21.757823Z",
     "iopub.status.idle": "2021-07-12T09:01:31.016141Z",
     "shell.execute_reply": "2021-07-12T09:01:31.015159Z"
    },
    "papermill": {
     "duration": 9.293177,
     "end_time": "2021-07-12T09:01:31.016307",
     "exception": false,
     "start_time": "2021-07-12T09:01:21.723130",
     "status": "completed"
    },
    "tags": []
   },
   "outputs": [
    {
     "name": "stdout",
     "output_type": "stream",
     "text": [
      "Collecting efficientnet_pytorch\r\n",
      "  Downloading efficientnet_pytorch-0.7.1.tar.gz (21 kB)\r\n",
      "Requirement already satisfied: torch in /opt/conda/lib/python3.7/site-packages (from efficientnet_pytorch) (1.7.0)\r\n",
      "Requirement already satisfied: future in /opt/conda/lib/python3.7/site-packages (from torch->efficientnet_pytorch) (0.18.2)\r\n",
      "Requirement already satisfied: typing_extensions in /opt/conda/lib/python3.7/site-packages (from torch->efficientnet_pytorch) (3.7.4.3)\r\n",
      "Requirement already satisfied: dataclasses in /opt/conda/lib/python3.7/site-packages (from torch->efficientnet_pytorch) (0.6)\r\n",
      "Requirement already satisfied: numpy in /opt/conda/lib/python3.7/site-packages (from torch->efficientnet_pytorch) (1.19.5)\r\n",
      "Building wheels for collected packages: efficientnet-pytorch\r\n",
      "  Building wheel for efficientnet-pytorch (setup.py) ... \u001b[?25l-\b \b\\\b \bdone\r\n",
      "\u001b[?25h  Created wheel for efficientnet-pytorch: filename=efficientnet_pytorch-0.7.1-py3-none-any.whl size=16446 sha256=91bb5df1e2fb1ee3359b0dc8b3458b61da627cc5aeb45eff0c41673c219a7582\r\n",
      "  Stored in directory: /root/.cache/pip/wheels/0e/cc/b2/49e74588263573ff778da58cc99b9c6349b496636a7e165be6\r\n",
      "Successfully built efficientnet-pytorch\r\n",
      "Installing collected packages: efficientnet-pytorch\r\n",
      "Successfully installed efficientnet-pytorch-0.7.1\r\n",
      "\u001b[33mWARNING: Running pip as root will break packages and permissions. You should install packages reliably by using venv: https://pip.pypa.io/warnings/venv\u001b[0m\r\n"
     ]
    }
   ],
   "source": [
    "!pip install efficientnet_pytorch"
   ]
  },
  {
   "cell_type": "code",
   "execution_count": 2,
   "id": "4dbd7614",
   "metadata": {
    "execution": {
     "iopub.execute_input": "2021-07-12T09:01:31.074182Z",
     "iopub.status.busy": "2021-07-12T09:01:31.073391Z",
     "iopub.status.idle": "2021-07-12T09:01:33.073194Z",
     "shell.execute_reply": "2021-07-12T09:01:33.072695Z"
    },
    "papermill": {
     "duration": 2.03113,
     "end_time": "2021-07-12T09:01:33.073321",
     "exception": false,
     "start_time": "2021-07-12T09:01:31.042191",
     "status": "completed"
    },
    "tags": []
   },
   "outputs": [],
   "source": [
    "import os\n",
    "import sys\n",
    "import time\n",
    "import copy\n",
    "import random\n",
    "import pickle\n",
    "import itertools\n",
    "import numpy as np\n",
    "import pandas as pd\n",
    "from PIL import Image\n",
    "import matplotlib.pyplot as plt\n",
    "from scipy.stats import entropy\n",
    "from tqdm import tqdm\n",
    "\n",
    "import torch\n",
    "import torch.nn as nn\n",
    "import torch.optim as optim\n",
    "import torchvision\n",
    "\n",
    "import torchvision.transforms as transforms\n",
    "from torch.utils.data import Dataset,DataLoader, Subset\n",
    "import PIL, PIL.ImageOps, PIL.ImageEnhance, PIL.ImageDraw\n",
    "import torchvision.transforms.functional as F\n",
    "from efficientnet_pytorch import EfficientNet"
   ]
  },
  {
   "cell_type": "code",
   "execution_count": 3,
   "id": "5b0bbf57",
   "metadata": {
    "execution": {
     "iopub.execute_input": "2021-07-12T09:01:33.129965Z",
     "iopub.status.busy": "2021-07-12T09:01:33.129304Z",
     "iopub.status.idle": "2021-07-12T09:01:33.132828Z",
     "shell.execute_reply": "2021-07-12T09:01:33.132418Z"
    },
    "papermill": {
     "duration": 0.033886,
     "end_time": "2021-07-12T09:01:33.132943",
     "exception": false,
     "start_time": "2021-07-12T09:01:33.099057",
     "status": "completed"
    },
    "tags": []
   },
   "outputs": [],
   "source": [
    "batch_size = 16\n",
    "train_transforms = transforms.Compose([\n",
    "        transforms.RandomHorizontalFlip(p=0.25),\n",
    "        transforms.RandomVerticalFlip(p=0.25),\n",
    "        transforms.RandomAffine(degrees=20, translate=(0.25, 0.25), shear=(-0.25, 0.25)),\n",
    "        transforms.ToTensor(),\n",
    "        transforms.Normalize((0.5, 0.5, 0.5), (0.5, 0.5, 0.5))\n",
    "])\n",
    "\n",
    "\n",
    "test_transforms = transforms.Compose([\n",
    "        transforms.ToTensor(),\n",
    "        transforms.Normalize((0.5, 0.5, 0.5), (0.5, 0.5, 0.5))\n",
    "\n",
    "])"
   ]
  },
  {
   "cell_type": "code",
   "execution_count": 4,
   "id": "20e15677",
   "metadata": {
    "execution": {
     "iopub.execute_input": "2021-07-12T09:01:33.187533Z",
     "iopub.status.busy": "2021-07-12T09:01:33.186323Z",
     "iopub.status.idle": "2021-07-12T09:01:33.189116Z",
     "shell.execute_reply": "2021-07-12T09:01:33.188722Z"
    },
    "papermill": {
     "duration": 0.031365,
     "end_time": "2021-07-12T09:01:33.189219",
     "exception": false,
     "start_time": "2021-07-12T09:01:33.157854",
     "status": "completed"
    },
    "tags": []
   },
   "outputs": [],
   "source": [
    "def unpickle(file):\n",
    "    with open(file, 'rb') as fo:\n",
    "        dictt = pickle.load(fo, encoding='latin1')\n",
    "    return dictt"
   ]
  },
  {
   "cell_type": "code",
   "execution_count": 5,
   "id": "17b2973f",
   "metadata": {
    "execution": {
     "iopub.execute_input": "2021-07-12T09:01:33.242577Z",
     "iopub.status.busy": "2021-07-12T09:01:33.242103Z",
     "iopub.status.idle": "2021-07-12T09:01:37.175459Z",
     "shell.execute_reply": "2021-07-12T09:01:37.174994Z"
    },
    "papermill": {
     "duration": 3.961112,
     "end_time": "2021-07-12T09:01:37.175586",
     "exception": false,
     "start_time": "2021-07-12T09:01:33.214474",
     "status": "completed"
    },
    "tags": []
   },
   "outputs": [],
   "source": [
    "# Read dictionary\n",
    "data_train = unpickle(\"../input/cifar100/train\")\n",
    "data_test = unpickle(\"../input/cifar100/test\")\n",
    "data_meta = unpickle(\"../input/cifar100/meta\")"
   ]
  },
  {
   "cell_type": "code",
   "execution_count": 6,
   "id": "32618d2a",
   "metadata": {
    "execution": {
     "iopub.execute_input": "2021-07-12T09:01:37.240853Z",
     "iopub.status.busy": "2021-07-12T09:01:37.240113Z",
     "iopub.status.idle": "2021-07-12T09:01:37.244123Z",
     "shell.execute_reply": "2021-07-12T09:01:37.243689Z"
    },
    "papermill": {
     "duration": 0.042214,
     "end_time": "2021-07-12T09:01:37.244227",
     "exception": false,
     "start_time": "2021-07-12T09:01:37.202013",
     "status": "completed"
    },
    "tags": []
   },
   "outputs": [
    {
     "name": "stdout",
     "output_type": "stream",
     "text": [
      "{0: 'apple', 1: 'aquarium_fish', 2: 'baby', 3: 'bear', 4: 'beaver', 5: 'bed', 6: 'bee', 7: 'beetle', 8: 'bicycle', 9: 'bottle', 10: 'bowl', 11: 'boy', 12: 'bridge', 13: 'bus', 14: 'butterfly', 15: 'camel', 16: 'can', 17: 'castle', 18: 'caterpillar', 19: 'cattle', 20: 'chair', 21: 'chimpanzee', 22: 'clock', 23: 'cloud', 24: 'cockroach', 25: 'couch', 26: 'crab', 27: 'crocodile', 28: 'cup', 29: 'dinosaur', 30: 'dolphin', 31: 'elephant', 32: 'flatfish', 33: 'forest', 34: 'fox', 35: 'girl', 36: 'hamster', 37: 'house', 38: 'kangaroo', 39: 'keyboard', 40: 'lamp', 41: 'lawn_mower', 42: 'leopard', 43: 'lion', 44: 'lizard', 45: 'lobster', 46: 'man', 47: 'maple_tree', 48: 'motorcycle', 49: 'mountain', 50: 'mouse', 51: 'mushroom', 52: 'oak_tree', 53: 'orange', 54: 'orchid', 55: 'otter', 56: 'palm_tree', 57: 'pear', 58: 'pickup_truck', 59: 'pine_tree', 60: 'plain', 61: 'plate', 62: 'poppy', 63: 'porcupine', 64: 'possum', 65: 'rabbit', 66: 'raccoon', 67: 'ray', 68: 'road', 69: 'rocket', 70: 'rose', 71: 'sea', 72: 'seal', 73: 'shark', 74: 'shrew', 75: 'skunk', 76: 'skyscraper', 77: 'snail', 78: 'snake', 79: 'spider', 80: 'squirrel', 81: 'streetcar', 82: 'sunflower', 83: 'sweet_pepper', 84: 'table', 85: 'tank', 86: 'telephone', 87: 'television', 88: 'tiger', 89: 'tractor', 90: 'train', 91: 'trout', 92: 'tulip', 93: 'turtle', 94: 'wardrobe', 95: 'whale', 96: 'willow_tree', 97: 'wolf', 98: 'woman', 99: 'worm'}\n"
     ]
    }
   ],
   "source": [
    "subCategory = pd.DataFrame(data_meta['fine_label_names'], columns=['SubClass'])\n",
    "subCategoryDict = subCategory.to_dict()\n",
    "for key in list(subCategoryDict.keys()):\n",
    "    print(subCategoryDict[key])"
   ]
  },
  {
   "cell_type": "code",
   "execution_count": 7,
   "id": "b8e4a847",
   "metadata": {
    "execution": {
     "iopub.execute_input": "2021-07-12T09:01:37.300710Z",
     "iopub.status.busy": "2021-07-12T09:01:37.300039Z",
     "iopub.status.idle": "2021-07-12T09:01:37.305045Z",
     "shell.execute_reply": "2021-07-12T09:01:37.304587Z"
    },
    "papermill": {
     "duration": 0.035394,
     "end_time": "2021-07-12T09:01:37.305150",
     "exception": false,
     "start_time": "2021-07-12T09:01:37.269756",
     "status": "completed"
    },
    "tags": []
   },
   "outputs": [
    {
     "name": "stdout",
     "output_type": "stream",
     "text": [
      "(10000, 3072) (10000, 3072)\n",
      "<class 'numpy.ndarray'> <class 'list'>\n"
     ]
    }
   ],
   "source": [
    "# only use 10000 labelled samples\n",
    "\n",
    "x_train, y_train = data_train['data'][0:10000], data_train['fine_labels'][0:10000]\n",
    "x_test, y_test = data_test['data'], data_test['fine_labels']\n",
    "print(x_train.shape, x_test.shape)\n",
    "print(type(x_train), type(y_train))"
   ]
  },
  {
   "cell_type": "code",
   "execution_count": 8,
   "id": "93e794dd",
   "metadata": {
    "execution": {
     "iopub.execute_input": "2021-07-12T09:01:37.369667Z",
     "iopub.status.busy": "2021-07-12T09:01:37.369010Z",
     "iopub.status.idle": "2021-07-12T09:01:37.372516Z",
     "shell.execute_reply": "2021-07-12T09:01:37.373094Z"
    },
    "papermill": {
     "duration": 0.04218,
     "end_time": "2021-07-12T09:01:37.373247",
     "exception": false,
     "start_time": "2021-07-12T09:01:37.331067",
     "status": "completed"
    },
    "tags": []
   },
   "outputs": [
    {
     "name": "stdout",
     "output_type": "stream",
     "text": [
      "<class 'numpy.ndarray'> <class 'numpy.ndarray'> <class 'numpy.ndarray'> <class 'numpy.ndarray'>\n",
      "(10000,) (10000,)\n",
      "99 99\n"
     ]
    }
   ],
   "source": [
    "x_train = x_train.reshape(len(x_train),3,32,32)\n",
    "x_test = x_test.reshape(len(x_test),3,32,32)\n",
    "\n",
    "x_train, y_train = np.asarray(x_train), np.asarray(y_train)\n",
    "x_test, y_test = np.asarray(x_test), np.asarray(y_test)\n",
    "\n",
    "print(type(x_train), type(y_train), type(x_test), type(y_test))\n",
    "print(y_train.shape, y_test.shape)\n",
    "print(np.max(y_train), np.max(y_test))"
   ]
  },
  {
   "cell_type": "code",
   "execution_count": 9,
   "id": "6a26636d",
   "metadata": {
    "execution": {
     "iopub.execute_input": "2021-07-12T09:01:37.432270Z",
     "iopub.status.busy": "2021-07-12T09:01:37.431772Z",
     "iopub.status.idle": "2021-07-12T09:01:37.435121Z",
     "shell.execute_reply": "2021-07-12T09:01:37.435480Z"
    },
    "papermill": {
     "duration": 0.035276,
     "end_time": "2021-07-12T09:01:37.435594",
     "exception": false,
     "start_time": "2021-07-12T09:01:37.400318",
     "status": "completed"
    },
    "tags": []
   },
   "outputs": [],
   "source": [
    "class MyDataset(Dataset):\n",
    "    def __init__(self, data, targets, transform=None):\n",
    "        self.data = data\n",
    "        self.targets = torch.LongTensor(targets)\n",
    "        self.transform = transform\n",
    "\n",
    "    def __len__(self):\n",
    "        return len(self.data)\n",
    "    \n",
    "    def __getitem__(self, index):\n",
    "        x = self.data[index]\n",
    "        y = self.targets[index]\n",
    "        if self.transform:\n",
    "            # converting the array into a PIL image\n",
    "            x = Image.fromarray(self.data[index].astype(np.uint8).transpose(1,2,0))\n",
    "            x = self.transform(x)\n",
    "        return {'images': x, 'labels': y}"
   ]
  },
  {
   "cell_type": "code",
   "execution_count": 10,
   "id": "83b69443",
   "metadata": {
    "execution": {
     "iopub.execute_input": "2021-07-12T09:01:37.499707Z",
     "iopub.status.busy": "2021-07-12T09:01:37.498890Z",
     "iopub.status.idle": "2021-07-12T09:01:37.504476Z",
     "shell.execute_reply": "2021-07-12T09:01:37.504063Z"
    },
    "papermill": {
     "duration": 0.04278,
     "end_time": "2021-07-12T09:01:37.504573",
     "exception": false,
     "start_time": "2021-07-12T09:01:37.461793",
     "status": "completed"
    },
    "tags": []
   },
   "outputs": [
    {
     "name": "stdout",
     "output_type": "stream",
     "text": [
      "10000 10000\n",
      "625 625\n"
     ]
    }
   ],
   "source": [
    "train_dataset = MyDataset(x_train, y_train, transform=train_transforms)\n",
    "test_dataset = MyDataset(x_test, y_test, transform=test_transforms)\n",
    "\n",
    "train_dataloader = DataLoader(train_dataset, batch_size=batch_size, shuffle=True, num_workers=4, drop_last=True)\n",
    "test_dataloader = DataLoader(test_dataset, batch_size=batch_size, num_workers=4)\n",
    "\n",
    "dataloaders = {'train': train_dataloader, 'test':test_dataloader}\n",
    "dataset_sizes = {'train': len(train_dataset), 'test':len(test_dataset)}\n",
    "\n",
    "print(dataset_sizes['train'], dataset_sizes['test'])\n",
    "print(len(train_dataloader), len(test_dataloader))"
   ]
  },
  {
   "cell_type": "code",
   "execution_count": 11,
   "id": "9068fb20",
   "metadata": {
    "execution": {
     "iopub.execute_input": "2021-07-12T09:01:37.562370Z",
     "iopub.status.busy": "2021-07-12T09:01:37.561826Z",
     "iopub.status.idle": "2021-07-12T09:01:37.565879Z",
     "shell.execute_reply": "2021-07-12T09:01:37.566491Z"
    },
    "papermill": {
     "duration": 0.03558,
     "end_time": "2021-07-12T09:01:37.566659",
     "exception": false,
     "start_time": "2021-07-12T09:01:37.531079",
     "status": "completed"
    },
    "tags": []
   },
   "outputs": [
    {
     "name": "stdout",
     "output_type": "stream",
     "text": [
      "(20000, 3, 32, 32) <class 'numpy.ndarray'>\n"
     ]
    }
   ],
   "source": [
    "x_unlabelled = data_train['data'][10000:30000]\n",
    "x_unlabelled = x_unlabelled.reshape(len(x_unlabelled),3,32,32)\n",
    "x_unlabelled = np.asarray(x_unlabelled)\n",
    "print(x_unlabelled.shape, type(x_unlabelled))"
   ]
  },
  {
   "cell_type": "code",
   "execution_count": 12,
   "id": "d9c90ed1",
   "metadata": {
    "execution": {
     "iopub.execute_input": "2021-07-12T09:01:37.627867Z",
     "iopub.status.busy": "2021-07-12T09:01:37.627276Z",
     "iopub.status.idle": "2021-07-12T09:01:37.630874Z",
     "shell.execute_reply": "2021-07-12T09:01:37.630449Z"
    },
    "papermill": {
     "duration": 0.036634,
     "end_time": "2021-07-12T09:01:37.630981",
     "exception": false,
     "start_time": "2021-07-12T09:01:37.594347",
     "status": "completed"
    },
    "tags": []
   },
   "outputs": [],
   "source": [
    "class UnlabelledDataset(Dataset):\n",
    "    def __init__(self, data, m, transforms=None):\n",
    "        self.data = data\n",
    "        self.transforms = transforms\n",
    "        self.images_list = list(np.arange(1, (len(self.data)+1)))\n",
    "\n",
    "    def __len__(self):\n",
    "        return len(self.data)\n",
    "    \n",
    "    def __getitem__(self, index):\n",
    "        image = self.data[index]\n",
    "        image = Image.fromarray(image.astype(np.uint8).transpose(1,2,0))\n",
    "        if self.transforms is not None:\n",
    "            image = self.transforms(image)\n",
    "        return {'image_names': index, 'images': image}"
   ]
  },
  {
   "cell_type": "code",
   "execution_count": 13,
   "id": "c674d843",
   "metadata": {
    "execution": {
     "iopub.execute_input": "2021-07-12T09:01:37.691257Z",
     "iopub.status.busy": "2021-07-12T09:01:37.690688Z",
     "iopub.status.idle": "2021-07-12T09:01:37.695369Z",
     "shell.execute_reply": "2021-07-12T09:01:37.694986Z"
    },
    "papermill": {
     "duration": 0.03745,
     "end_time": "2021-07-12T09:01:37.695493",
     "exception": false,
     "start_time": "2021-07-12T09:01:37.658043",
     "status": "completed"
    },
    "tags": []
   },
   "outputs": [
    {
     "name": "stdout",
     "output_type": "stream",
     "text": [
      "20000\n",
      "79\n"
     ]
    }
   ],
   "source": [
    "unlabelled_dataset = UnlabelledDataset(x_unlabelled, m=4, transforms=test_transforms)\n",
    "unlabelled_dataloader = DataLoader(unlabelled_dataset, batch_size=256, num_workers=8, shuffle=False, pin_memory=True)\n",
    "\n",
    "print(len(unlabelled_dataset))\n",
    "print(len(unlabelled_dataloader))"
   ]
  },
  {
   "cell_type": "code",
   "execution_count": 14,
   "id": "53a25f8a",
   "metadata": {
    "execution": {
     "iopub.execute_input": "2021-07-12T09:01:37.760304Z",
     "iopub.status.busy": "2021-07-12T09:01:37.759095Z",
     "iopub.status.idle": "2021-07-12T09:01:37.761947Z",
     "shell.execute_reply": "2021-07-12T09:01:37.761455Z"
    },
    "papermill": {
     "duration": 0.038849,
     "end_time": "2021-07-12T09:01:37.762045",
     "exception": false,
     "start_time": "2021-07-12T09:01:37.723196",
     "status": "completed"
    },
    "tags": []
   },
   "outputs": [],
   "source": [
    "class Baseline_Efficient(nn.Module):\n",
    "    def __init__(self):\n",
    "        super().__init__()\n",
    "        self.base_model = EfficientNet.from_name('efficientnet-b0')\n",
    "        self.linear = nn.Linear(in_features=self.base_model._fc.in_features, out_features=100)\n",
    "        self.base_model._fc = self.linear\n",
    "\n",
    "    def forward(self, x):\n",
    "        x = self.base_model(x)\n",
    "        return x\n",
    "\n",
    "\n",
    "class Baseline_WideResNet(nn.Module):\n",
    "    def __init__(self):\n",
    "        super().__init__()\n",
    "        self.base_model = torchvision.models.wide_resnet50_2(pretrained=False)\n",
    "        self.linear = nn.Linear(in_features=self.base_model.fc.in_features, out_features=100)\n",
    "        self.base_model.fc = self.linear\n",
    "\n",
    "    def forward(self, x):\n",
    "        x = self.base_model(x)\n",
    "        return x\n",
    "\n",
    "\n",
    "class Baseline_ResNet(nn.Module):\n",
    "    def __init__(self):\n",
    "        super().__init__()\n",
    "        self.base_model = torchvision.models.resnet18(pretrained=False)\n",
    "        self.linear = nn.Linear(in_features=512, out_features=100)\n",
    "        self.base_model.fc = self.linear\n",
    "\n",
    "    def forward(self, x):\n",
    "        x = self.base_model(x)\n",
    "        return x"
   ]
  },
  {
   "cell_type": "code",
   "execution_count": 15,
   "id": "8a9f70c5",
   "metadata": {
    "execution": {
     "iopub.execute_input": "2021-07-12T09:01:37.863891Z",
     "iopub.status.busy": "2021-07-12T09:01:37.863187Z",
     "iopub.status.idle": "2021-07-12T09:01:37.865953Z",
     "shell.execute_reply": "2021-07-12T09:01:37.865530Z"
    },
    "papermill": {
     "duration": 0.076464,
     "end_time": "2021-07-12T09:01:37.866062",
     "exception": false,
     "start_time": "2021-07-12T09:01:37.789598",
     "status": "completed"
    },
    "tags": []
   },
   "outputs": [],
   "source": [
    "device = torch.device(\"cuda\" if torch.cuda.is_available() else \"cpu\")\n",
    "\n",
    "res_path = '../input/resnet-model-cifar100-8000-samples-with-scheduler/resnet_cifar100_8000_samples_scheduler.pth'\n",
    "eff_path = '../input/eff-net-model-cifar100-8000-samples/efficientNet_cifar100_8000_samples_scheduler.pth'\n",
    "wide_path = '../input/wide-net-model-cifar100-8000-samples/wide_resnet_cifar100_8000_samples_scheduler.pth'"
   ]
  },
  {
   "cell_type": "code",
   "execution_count": 16,
   "id": "f3eb8c2e",
   "metadata": {
    "execution": {
     "iopub.execute_input": "2021-07-12T09:01:37.939532Z",
     "iopub.status.busy": "2021-07-12T09:01:37.938999Z",
     "iopub.status.idle": "2021-07-12T09:01:48.637172Z",
     "shell.execute_reply": "2021-07-12T09:01:48.637886Z"
    },
    "papermill": {
     "duration": 10.743989,
     "end_time": "2021-07-12T09:01:48.638101",
     "exception": false,
     "start_time": "2021-07-12T09:01:37.894112",
     "status": "completed"
    },
    "tags": []
   },
   "outputs": [],
   "source": [
    "Baseline_model_res = Baseline_ResNet()\n",
    "Baseline_model_eff = Baseline_Efficient()\n",
    "Baseline_model_wide = Baseline_WideResNet()\n",
    "\n",
    "Baseline_model_res.load_state_dict(torch.load(res_path))\n",
    "Baseline_model_eff.load_state_dict(torch.load(eff_path))\n",
    "Baseline_model_wide.load_state_dict(torch.load(wide_path))\n",
    "\n",
    "Baseline_model_res = Baseline_model_res.to(device)\n",
    "Baseline_model_eff = Baseline_model_eff.to(device)\n",
    "Baseline_model_wide = Baseline_model_wide.to(device)"
   ]
  },
  {
   "cell_type": "code",
   "execution_count": 17,
   "id": "44d186ed",
   "metadata": {
    "execution": {
     "iopub.execute_input": "2021-07-12T09:01:48.723267Z",
     "iopub.status.busy": "2021-07-12T09:01:48.721985Z",
     "iopub.status.idle": "2021-07-12T09:01:48.724356Z",
     "shell.execute_reply": "2021-07-12T09:01:48.724823Z"
    },
    "papermill": {
     "duration": 0.040488,
     "end_time": "2021-07-12T09:01:48.724950",
     "exception": false,
     "start_time": "2021-07-12T09:01:48.684462",
     "status": "completed"
    },
    "tags": []
   },
   "outputs": [],
   "source": [
    "def sharpen(vector, t=0.3):\n",
    "    n = np.power(vector, 1 / t)\n",
    "    d = np.sum(np.power(vector, 1 / t))\n",
    "    return n / d"
   ]
  },
  {
   "cell_type": "code",
   "execution_count": 18,
   "id": "e63439df",
   "metadata": {
    "execution": {
     "iopub.execute_input": "2021-07-12T09:01:48.787007Z",
     "iopub.status.busy": "2021-07-12T09:01:48.786470Z",
     "iopub.status.idle": "2021-07-12T09:01:54.473256Z",
     "shell.execute_reply": "2021-07-12T09:01:54.472815Z"
    },
    "papermill": {
     "duration": 5.720393,
     "end_time": "2021-07-12T09:01:54.473379",
     "exception": false,
     "start_time": "2021-07-12T09:01:48.752986",
     "status": "completed"
    },
    "tags": []
   },
   "outputs": [
    {
     "name": "stderr",
     "output_type": "stream",
     "text": [
      "100%|██████████| 79/79 [00:05<00:00, 14.01it/s]\n"
     ]
    }
   ],
   "source": [
    "softmax = nn.Softmax(dim=1)\n",
    "predictions = []\n",
    "image_names = []\n",
    "with torch.no_grad():\n",
    "    Baseline_model_res = Baseline_model_res.eval()\n",
    "    for sample in tqdm(unlabelled_dataloader):\n",
    "        images = sample['images'].to(device)\n",
    "        output = softmax(Baseline_model_res(images))\n",
    "        predictions.append(output.cpu().numpy())\n",
    "        image_names.append(sample['image_names'])\n",
    "\n",
    "predictions_a_np = predictions[0]\n",
    "for i in range(1, len(predictions)):\n",
    "    predictions_a_np = np.concatenate((predictions_a_np, predictions[i]))"
   ]
  },
  {
   "cell_type": "code",
   "execution_count": 19,
   "id": "41d8271e",
   "metadata": {
    "execution": {
     "iopub.execute_input": "2021-07-12T09:01:54.554841Z",
     "iopub.status.busy": "2021-07-12T09:01:54.554217Z",
     "iopub.status.idle": "2021-07-12T09:02:00.443673Z",
     "shell.execute_reply": "2021-07-12T09:02:00.443238Z"
    },
    "papermill": {
     "duration": 5.933102,
     "end_time": "2021-07-12T09:02:00.443801",
     "exception": false,
     "start_time": "2021-07-12T09:01:54.510699",
     "status": "completed"
    },
    "tags": []
   },
   "outputs": [
    {
     "name": "stderr",
     "output_type": "stream",
     "text": [
      "100%|██████████| 79/79 [00:05<00:00, 13.52it/s]\n"
     ]
    }
   ],
   "source": [
    "predictions = []\n",
    "with torch.no_grad():\n",
    "    Baseline_model_eff = Baseline_model_eff.eval()\n",
    "    for sample in tqdm(unlabelled_dataloader):\n",
    "        images = sample['images'].to(device)\n",
    "        output = softmax(Baseline_model_eff(images))\n",
    "        predictions.append(output.cpu().numpy())\n",
    "\n",
    "predictions_b_np = predictions[0]\n",
    "for i in range(1, len(predictions)):\n",
    "    predictions_b_np = np.concatenate((predictions_b_np, predictions[i]))"
   ]
  },
  {
   "cell_type": "code",
   "execution_count": 20,
   "id": "c75fbbf6",
   "metadata": {
    "execution": {
     "iopub.execute_input": "2021-07-12T09:02:00.543614Z",
     "iopub.status.busy": "2021-07-12T09:02:00.543092Z",
     "iopub.status.idle": "2021-07-12T09:02:06.650504Z",
     "shell.execute_reply": "2021-07-12T09:02:06.650083Z"
    },
    "papermill": {
     "duration": 6.160074,
     "end_time": "2021-07-12T09:02:06.650625",
     "exception": false,
     "start_time": "2021-07-12T09:02:00.490551",
     "status": "completed"
    },
    "tags": []
   },
   "outputs": [
    {
     "name": "stderr",
     "output_type": "stream",
     "text": [
      "100%|██████████| 79/79 [00:06<00:00, 13.03it/s]\n"
     ]
    }
   ],
   "source": [
    "predictions = []\n",
    "with torch.no_grad():\n",
    "    Baseline_model_wide = Baseline_model_wide.eval()\n",
    "    for sample in tqdm(unlabelled_dataloader):\n",
    "        images = sample['images'].to(device)\n",
    "        output = softmax(Baseline_model_wide(images))\n",
    "        predictions.append(output.cpu().numpy())\n",
    "\n",
    "predictions_c_np = predictions[0]\n",
    "for i in range(1, len(predictions)):\n",
    "    predictions_c_np = np.concatenate((predictions_c_np, predictions[i]))"
   ]
  },
  {
   "cell_type": "code",
   "execution_count": 21,
   "id": "8bb66107",
   "metadata": {
    "execution": {
     "iopub.execute_input": "2021-07-12T09:02:06.769948Z",
     "iopub.status.busy": "2021-07-12T09:02:06.768878Z",
     "iopub.status.idle": "2021-07-12T09:02:07.164826Z",
     "shell.execute_reply": "2021-07-12T09:02:07.164354Z"
    },
    "papermill": {
     "duration": 0.457021,
     "end_time": "2021-07-12T09:02:07.164969",
     "exception": false,
     "start_time": "2021-07-12T09:02:06.707948",
     "status": "completed"
    },
    "tags": []
   },
   "outputs": [],
   "source": [
    "ensemble_arr = np.mean((predictions_a_np, predictions_b_np, predictions_c_np), 0)\n",
    "sharpened_arr = np.apply_along_axis(sharpen, 1, ensemble_arr)\n",
    "image_names = list(itertools.chain.from_iterable(image_names))"
   ]
  },
  {
   "cell_type": "code",
   "execution_count": 22,
   "id": "e588f357",
   "metadata": {
    "execution": {
     "iopub.execute_input": "2021-07-12T09:02:07.284747Z",
     "iopub.status.busy": "2021-07-12T09:02:07.283405Z",
     "iopub.status.idle": "2021-07-12T09:02:07.285708Z",
     "shell.execute_reply": "2021-07-12T09:02:07.286122Z"
    },
    "papermill": {
     "duration": 0.063885,
     "end_time": "2021-07-12T09:02:07.286252",
     "exception": false,
     "start_time": "2021-07-12T09:02:07.222367",
     "status": "completed"
    },
    "tags": []
   },
   "outputs": [],
   "source": [
    "def entropy_fn(vector):\n",
    "    return entropy(vector)"
   ]
  },
  {
   "cell_type": "code",
   "execution_count": 23,
   "id": "ebe1dfba",
   "metadata": {
    "execution": {
     "iopub.execute_input": "2021-07-12T09:02:07.412520Z",
     "iopub.status.busy": "2021-07-12T09:02:07.411977Z",
     "iopub.status.idle": "2021-07-12T09:02:07.414958Z",
     "shell.execute_reply": "2021-07-12T09:02:07.414511Z"
    },
    "papermill": {
     "duration": 0.068874,
     "end_time": "2021-07-12T09:02:07.415065",
     "exception": false,
     "start_time": "2021-07-12T09:02:07.346191",
     "status": "completed"
    },
    "tags": []
   },
   "outputs": [],
   "source": [
    "class PseudoLabelledDataset(Dataset):\n",
    "    def __init__(self, data, predictions, image_names, topn, transforms=None):\n",
    "        super(PseudoLabelledDataset, self).__init__()\n",
    "        self.topn = topn\n",
    "        self.data = data\n",
    "        self.transforms = transforms\n",
    "        self.predictions = predictions\n",
    "        self.image_names = image_names\n",
    "        self.sorted_dataframe = self.sort_by_entropy()\n",
    "        self.sorted_dataframe = self.sorted_dataframe[:topn]\n",
    "    def sort_by_entropy(self):\n",
    "        sorted_dataframe = pd.DataFrame()\n",
    "        sorted_dataframe['image_names'] = self.image_names\n",
    "        sorted_dataframe['predictions'] = self.predictions.tolist()\n",
    "        sorted_dataframe['entropy'] = np.apply_along_axis(entropy_fn, 1, self.predictions)\n",
    "        sorted_dataframe = sorted_dataframe.sort_values(by='entropy', ascending=True).reset_index(drop=True)\n",
    "        return sorted_dataframe\n",
    "    \n",
    "    def __len__(self):\n",
    "        return self.topn\n",
    "\n",
    "    def __getitem__(self, idx):\n",
    "        image_name = self.sorted_dataframe.iloc[idx, 0]\n",
    "        image_prediction = self.sorted_dataframe.iloc[idx, 1]\n",
    "        image = self.data[idx]\n",
    "        image = Image.fromarray(image.astype(np.uint8).transpose(1,2,0))\n",
    "        if self.transforms:\n",
    "            image = self.transforms(image)\n",
    "        return {'images': image, 'labels': np.array(image_prediction, dtype=np.float32)}"
   ]
  },
  {
   "cell_type": "code",
   "execution_count": 24,
   "id": "3f0c6c8e",
   "metadata": {
    "execution": {
     "iopub.execute_input": "2021-07-12T09:02:07.755852Z",
     "iopub.status.busy": "2021-07-12T09:02:07.754868Z",
     "iopub.status.idle": "2021-07-12T09:02:08.238076Z",
     "shell.execute_reply": "2021-07-12T09:02:08.238623Z"
    },
    "papermill": {
     "duration": 0.766703,
     "end_time": "2021-07-12T09:02:08.238839",
     "exception": false,
     "start_time": "2021-07-12T09:02:07.472136",
     "status": "completed"
    },
    "tags": []
   },
   "outputs": [
    {
     "name": "stdout",
     "output_type": "stream",
     "text": [
      "sampled_pseudo_dataset Size 16000\n"
     ]
    }
   ],
   "source": [
    "pseudo_labelled_dataset = PseudoLabelledDataset(x_unlabelled, predictions=sharpened_arr,\n",
    "                                                image_names=image_names, topn=20000, transforms=train_transforms)\n",
    "\n",
    "N = 16000\n",
    "random_idx = random.sample(range(0, 20000), N)\n",
    "sampled_pseudo_dataset = Subset(pseudo_labelled_dataset, random_idx)\n",
    "sampled_pseudo_dataloader = DataLoader(sampled_pseudo_dataset, batch_size=batch_size, num_workers=4, pin_memory=True, shuffle=True)\n",
    "print('sampled_pseudo_dataset Size', len(sampled_pseudo_dataset))"
   ]
  },
  {
   "cell_type": "code",
   "execution_count": 25,
   "id": "d308efc4",
   "metadata": {
    "execution": {
     "iopub.execute_input": "2021-07-12T09:02:08.413124Z",
     "iopub.status.busy": "2021-07-12T09:02:08.411299Z",
     "iopub.status.idle": "2021-07-12T09:02:08.418113Z",
     "shell.execute_reply": "2021-07-12T09:02:08.419195Z"
    },
    "papermill": {
     "duration": 0.120919,
     "end_time": "2021-07-12T09:02:08.419399",
     "exception": false,
     "start_time": "2021-07-12T09:02:08.298480",
     "status": "completed"
    },
    "tags": []
   },
   "outputs": [],
   "source": [
    "def accuracy(y_true, y_pred):\n",
    "    return torch.sum(y_true == y_pred) / y_true.size(0)"
   ]
  },
  {
   "cell_type": "code",
   "execution_count": 26,
   "id": "61d49d8f",
   "metadata": {
    "execution": {
     "iopub.execute_input": "2021-07-12T09:02:08.617204Z",
     "iopub.status.busy": "2021-07-12T09:02:08.616415Z",
     "iopub.status.idle": "2021-07-12T09:02:08.620851Z",
     "shell.execute_reply": "2021-07-12T09:02:08.622006Z"
    },
    "papermill": {
     "duration": 0.108096,
     "end_time": "2021-07-12T09:02:08.622181",
     "exception": false,
     "start_time": "2021-07-12T09:02:08.514085",
     "status": "completed"
    },
    "tags": []
   },
   "outputs": [],
   "source": [
    "class AverageMeter(object):\n",
    "    \"\"\"Computes and stores the average and current value\"\"\"\n",
    "    def __init__(self):\n",
    "        self.count = 0\n",
    "        self.sum = 0\n",
    "        self.avg = 0\n",
    "    def update(self, val, n):\n",
    "        self.sum += val * n\n",
    "        self.count += n\n",
    "        self.avg = self.sum / self.count"
   ]
  },
  {
   "cell_type": "code",
   "execution_count": 27,
   "id": "959a4795",
   "metadata": {
    "execution": {
     "iopub.execute_input": "2021-07-12T09:02:08.821719Z",
     "iopub.status.busy": "2021-07-12T09:02:08.820953Z",
     "iopub.status.idle": "2021-07-12T09:02:08.825285Z",
     "shell.execute_reply": "2021-07-12T09:02:08.826432Z"
    },
    "papermill": {
     "duration": 0.108886,
     "end_time": "2021-07-12T09:02:08.826604",
     "exception": false,
     "start_time": "2021-07-12T09:02:08.717718",
     "status": "completed"
    },
    "tags": []
   },
   "outputs": [],
   "source": [
    "def evaluate(model, dataloader, criterion, device, epoch, dataloader_size):\n",
    "    model = model.eval()\n",
    "    running_loss = AverageMeter()\n",
    "    running_accuracy = AverageMeter()\n",
    "    with torch.no_grad():\n",
    "        for i, sample in enumerate(dataloader):\n",
    "            inputs, labels = sample['images'].to(device), sample['labels'].to(device)\n",
    "            outputs = model(inputs)\n",
    "            _, predictions = torch.max(outputs, 1)\n",
    "            loss = criterion(outputs, labels)\n",
    "            running_loss.update(loss.item(), inputs.size(0))\n",
    "            running_accuracy.update(accuracy(y_true=labels, y_pred=predictions), inputs.size(0))\n",
    "    return running_loss.avg, running_accuracy.avg"
   ]
  },
  {
   "cell_type": "code",
   "execution_count": 28,
   "id": "ab36570c",
   "metadata": {
    "execution": {
     "iopub.execute_input": "2021-07-12T09:02:08.962182Z",
     "iopub.status.busy": "2021-07-12T09:02:08.961380Z",
     "iopub.status.idle": "2021-07-12T09:02:08.963701Z",
     "shell.execute_reply": "2021-07-12T09:02:08.964195Z"
    },
    "papermill": {
     "duration": 0.066143,
     "end_time": "2021-07-12T09:02:08.964338",
     "exception": false,
     "start_time": "2021-07-12T09:02:08.898195",
     "status": "completed"
    },
    "tags": []
   },
   "outputs": [],
   "source": [
    "class ResNet(nn.Module):\n",
    "    def __init__(self):\n",
    "        super().__init__()\n",
    "        self.base_model = torchvision.models.resnet18(pretrained=True)\n",
    "        self.linear = nn.Linear(in_features=512, out_features=100)\n",
    "        self.base_model.fc = self.linear\n",
    "\n",
    "    def forward(self, x):\n",
    "        x = self.base_model(x)\n",
    "        return x"
   ]
  },
  {
   "cell_type": "code",
   "execution_count": 29,
   "id": "f05b4e40",
   "metadata": {
    "execution": {
     "iopub.execute_input": "2021-07-12T09:02:09.085862Z",
     "iopub.status.busy": "2021-07-12T09:02:09.085134Z",
     "iopub.status.idle": "2021-07-12T09:02:09.900809Z",
     "shell.execute_reply": "2021-07-12T09:02:09.900301Z"
    },
    "papermill": {
     "duration": 0.878349,
     "end_time": "2021-07-12T09:02:09.900935",
     "exception": false,
     "start_time": "2021-07-12T09:02:09.022586",
     "status": "completed"
    },
    "tags": []
   },
   "outputs": [
    {
     "name": "stderr",
     "output_type": "stream",
     "text": [
      "Downloading: \"https://download.pytorch.org/models/resnet18-5c106cde.pth\" to /root/.cache/torch/hub/checkpoints/resnet18-5c106cde.pth\n"
     ]
    },
    {
     "data": {
      "application/vnd.jupyter.widget-view+json": {
       "model_id": "ea541a4a664f4e949020fa4357882d80",
       "version_major": 2,
       "version_minor": 0
      },
      "text/plain": [
       "  0%|          | 0.00/44.7M [00:00<?, ?B/s]"
      ]
     },
     "metadata": {},
     "output_type": "display_data"
    }
   ],
   "source": [
    "model_res = ResNet()\n",
    "model_res.to(device)\n",
    "lr = 0.0001\n",
    "weight_decay = 0.00001\n",
    "optimizer = optim.Adam(model_res.parameters(), lr = lr, weight_decay = weight_decay)\n",
    "\n",
    "criterion1 = nn.CrossEntropyLoss()\n",
    "criterion2 = nn.MSELoss()\n",
    "lr_scheduler = optim.lr_scheduler.MultiStepLR(optimizer=optimizer, milestones=[20, 30, 40], gamma=0.1)"
   ]
  },
  {
   "cell_type": "code",
   "execution_count": 30,
   "id": "074ecc8c",
   "metadata": {
    "execution": {
     "iopub.execute_input": "2021-07-12T09:02:10.032386Z",
     "iopub.status.busy": "2021-07-12T09:02:10.031605Z",
     "iopub.status.idle": "2021-07-12T09:02:10.034372Z",
     "shell.execute_reply": "2021-07-12T09:02:10.033954Z"
    },
    "papermill": {
     "duration": 0.074027,
     "end_time": "2021-07-12T09:02:10.034474",
     "exception": false,
     "start_time": "2021-07-12T09:02:09.960447",
     "status": "completed"
    },
    "tags": []
   },
   "outputs": [],
   "source": [
    "def train(model, labelled_dataloader, pseudo_labelled_dataloader, optimizer, criterion1, criterion2, device, epoch, lambda_u, dataloader_size):\n",
    "    softmax = nn.Softmax(dim=1)\n",
    "    model = model.train()\n",
    "    running_l2_loss = AverageMeter()\n",
    "    running_total_loss = AverageMeter()\n",
    "    running_cross_entropy_loss = AverageMeter()\n",
    "\n",
    "    running_accuracy = AverageMeter()\n",
    "    labelled_itr = iter(labelled_dataloader)\n",
    "    pseudo_itr = iter(pseudo_labelled_dataloader)\n",
    "    for i in range(dataloader_size):\n",
    "        try:\n",
    "            sample = labelled_itr.next()\n",
    "            labelled_inputs, labelled_labels = sample['images'].to(device), sample['labels'].to(device)\n",
    "        except StopIteration:\n",
    "            labelled_itr = iter(labelled_dataloader)\n",
    "            sample = labelled_itr.next()\n",
    "            labelled_inputs, labelled_labels = sample['images'].to(device), sample['labels'].to(device)\n",
    "        try:\n",
    "            sample = pseudo_itr.next()\n",
    "            pseudo_inputs, pseudo_labels = sample['images'].to(device), sample['labels'].to(device)\n",
    "        except StopIteration:\n",
    "            print('Something wrong')\n",
    "            pseudo_itr = iter(pseudo_labelled_dataloader)\n",
    "            sample = pseudo_itr.next()\n",
    "            pseudo_inputs, pseudo_labels = sample['images'].to(device), sample['labels'].to(device)\n",
    "\n",
    "        labelled_outputs = model(labelled_inputs)\n",
    "        pseudo_outputs = softmax(model(pseudo_inputs))\n",
    "        _, labelled_predictions = torch.max(labelled_outputs, 1)\n",
    "        _, pseudo_predictions = torch.max(pseudo_outputs, 1)\n",
    "        _, pseudo_one_hot_labels = torch.max(pseudo_labels, 1)\n",
    "        loss1 = criterion1(labelled_outputs, labelled_labels)\n",
    "        loss2 = criterion2(pseudo_outputs.float(), pseudo_labels.float())\n",
    "        loss = loss1 + lambda_u * loss2\n",
    "        optimizer.zero_grad()\n",
    "        loss.backward()\n",
    "        optimizer.step()\n",
    "\n",
    "        running_cross_entropy_loss.update(loss1.item(), labelled_inputs.size(0))\n",
    "        running_l2_loss.update(loss2.item(), labelled_inputs.size(0))\n",
    "        running_total_loss.update(loss.item(), 2 * labelled_inputs.size(0))\n",
    "        running_accuracy.update(accuracy(y_true=labelled_labels, y_pred=labelled_predictions), labelled_inputs.size(0))\n",
    "        running_accuracy.update(accuracy(y_true=pseudo_one_hot_labels, y_pred=pseudo_predictions),labelled_inputs.size(0))\n",
    "    print('Training Cross Entorpy Loss {}'.format(running_cross_entropy_loss.avg))\n",
    "    print('Training L2 Loss {}'.format(running_l2_loss.avg))\n",
    "    print('Training accuracy {}'.format(running_accuracy.avg))"
   ]
  },
  {
   "cell_type": "code",
   "execution_count": 31,
   "id": "b03f11b7",
   "metadata": {
    "execution": {
     "iopub.execute_input": "2021-07-12T09:02:10.160870Z",
     "iopub.status.busy": "2021-07-12T09:02:10.160094Z",
     "iopub.status.idle": "2021-07-12T09:24:07.253862Z",
     "shell.execute_reply": "2021-07-12T09:24:07.253355Z"
    },
    "papermill": {
     "duration": 1317.160356,
     "end_time": "2021-07-12T09:24:07.254020",
     "exception": false,
     "start_time": "2021-07-12T09:02:10.093664",
     "status": "completed"
    },
    "tags": []
   },
   "outputs": [
    {
     "name": "stdout",
     "output_type": "stream",
     "text": [
      "\n",
      "\n",
      "Training Epoch 1 __________\n",
      "Training Cross Entorpy Loss 4.013152167081833\n",
      "Training L2 Loss 0.0077485985099338\n",
      "Training accuracy 0.057718753814697266\n",
      "Best loss till now 3.3901\n",
      "valid accuracy for this loss 0.1967\n",
      "saving the model\n",
      "\n",
      "\n",
      "Training Epoch 2 __________\n",
      "Training Cross Entorpy Loss 3.3304897137880327\n",
      "Training L2 Loss 0.008286169447936118\n",
      "Training accuracy 0.10165625810623169\n",
      "Best loss till now 3.0194\n",
      "valid accuracy for this loss 0.2569\n",
      "saving the model\n",
      "\n",
      "\n",
      "Training Epoch 3 __________\n",
      "Training Cross Entorpy Loss 3.07619167971611\n",
      "Training L2 Loss 0.0085819641193375\n",
      "Training accuracy 0.1250312626361847\n",
      "Best loss till now 2.8735\n",
      "valid accuracy for this loss 0.2884\n",
      "saving the model\n",
      "\n",
      "\n",
      "Training Epoch 4 __________\n",
      "Training Cross Entorpy Loss 2.9079872735738754\n",
      "Training L2 Loss 0.008781141804531217\n",
      "Training accuracy 0.13868750631809235\n",
      "Best loss till now 2.6795\n",
      "valid accuracy for this loss 0.3213\n",
      "saving the model\n",
      "\n",
      "\n",
      "Training Epoch 5 __________\n",
      "Training Cross Entorpy Loss 2.7666029292345047\n",
      "Training L2 Loss 0.008958449800033122\n",
      "Training accuracy 0.15053126215934753\n",
      "value of counter right now:  1\n",
      "\n",
      "\n",
      "Training Epoch 6 __________\n",
      "Training Cross Entorpy Loss 2.663054755806923\n",
      "Training L2 Loss 0.009117547276429832\n",
      "Training accuracy 0.1651562601327896\n",
      "Best loss till now 2.5681\n",
      "valid accuracy for this loss 0.3493\n",
      "saving the model\n",
      "\n",
      "\n",
      "Training Epoch 7 __________\n",
      "Training Cross Entorpy Loss 2.5619113931655884\n",
      "Training L2 Loss 0.00923165589570999\n",
      "Training accuracy 0.17284375429153442\n",
      "Best loss till now 2.5136\n",
      "valid accuracy for this loss 0.3633\n",
      "saving the model\n",
      "\n",
      "\n",
      "Training Epoch 8 __________\n",
      "Training Cross Entorpy Loss 2.4896092966794967\n",
      "Training L2 Loss 0.009351591686718166\n",
      "Training accuracy 0.1782812625169754\n",
      "value of counter right now:  1\n",
      "\n",
      "\n",
      "Training Epoch 9 __________\n",
      "Training Cross Entorpy Loss 2.423615662097931\n",
      "Training L2 Loss 0.009427475488744676\n",
      "Training accuracy 0.1875000149011612\n",
      "value of counter right now:  2\n",
      "\n",
      "\n",
      "Training Epoch 10 __________\n",
      "Training Cross Entorpy Loss 2.3405730817317965\n",
      "Training L2 Loss 0.009518455187790096\n",
      "Training accuracy 0.19434376060962677\n",
      "Best loss till now 2.5052\n",
      "valid accuracy for this loss 0.3849\n",
      "saving the model\n",
      "\n",
      "\n",
      "Training Epoch 11 __________\n",
      "Training Cross Entorpy Loss 2.2815593543052675\n",
      "Training L2 Loss 0.009614998927339911\n",
      "Training accuracy 0.20240625739097595\n",
      "Best loss till now 2.4076\n",
      "valid accuracy for this loss 0.3956\n",
      "saving the model\n",
      "\n",
      "\n",
      "Training Epoch 12 __________\n",
      "Training Cross Entorpy Loss 2.222830476641655\n",
      "Training L2 Loss 0.009708493328653277\n",
      "Training accuracy 0.20775000751018524\n",
      "value of counter right now:  1\n",
      "\n",
      "\n",
      "Training Epoch 13 __________\n",
      "Training Cross Entorpy Loss 2.156149812102318\n",
      "Training L2 Loss 0.009770303010009229\n",
      "Training accuracy 0.2121875137090683\n",
      "value of counter right now:  2\n",
      "\n",
      "\n",
      "Training Epoch 14 __________\n",
      "Training Cross Entorpy Loss 2.1265484186410903\n",
      "Training L2 Loss 0.00982477647718042\n",
      "Training accuracy 0.21571876108646393\n",
      "value of counter right now:  3\n",
      "\n",
      "\n",
      "Training Epoch 15 __________\n",
      "Training Cross Entorpy Loss 2.0747492369413374\n",
      "Training L2 Loss 0.009908107090741396\n",
      "Training accuracy 0.22290626168251038\n",
      "value of counter right now:  4\n",
      "\n",
      "\n",
      "Training Epoch 16 __________\n",
      "Training Cross Entorpy Loss 2.0169375690817835\n",
      "Training L2 Loss 0.010001447627786547\n",
      "Training accuracy 0.22828125953674316\n",
      "value of counter right now:  5\n",
      "\n",
      "\n",
      "Training Epoch 17 __________\n",
      "Training Cross Entorpy Loss 1.954893016397953\n",
      "Training L2 Loss 0.01005365833453834\n",
      "Training accuracy 0.23662501573562622\n",
      "value of counter right now:  6\n",
      "\n",
      "\n",
      "Training Epoch 18 __________\n",
      "Training Cross Entorpy Loss 1.925893534362316\n",
      "Training L2 Loss 0.010118730790447443\n",
      "Training accuracy 0.24003125727176666\n",
      "value of counter right now:  7\n"
     ]
    },
    {
     "data": {
      "text/plain": [
       "<All keys matched successfully>"
      ]
     },
     "execution_count": 31,
     "metadata": {},
     "output_type": "execute_result"
    }
   ],
   "source": [
    "t_start = time.time()\n",
    "counter = 0\n",
    "best_loss = 100000\n",
    "best_loss_acc = 0.0\n",
    "epochs = 120\n",
    "best_model = copy.deepcopy(model_res.state_dict())\n",
    "for epoch in range(epochs):\n",
    "    print(\"\\n\")\n",
    "    print('Training Epoch {} __________'.format(epoch + 1))\n",
    "    train(model=model_res, labelled_dataloader=train_dataloader, pseudo_labelled_dataloader=sampled_pseudo_dataloader,\n",
    "          criterion1=criterion1, criterion2=criterion2, lambda_u=10, device=device, optimizer=optimizer, epoch=epoch,\n",
    "          dataloader_size=len(sampled_pseudo_dataloader))\n",
    "    \n",
    "    test_epoch_loss, test_epoch_acc = evaluate(model=model_res, dataloader=test_dataloader, epoch=epoch,\n",
    "                                               criterion=criterion1, dataloader_size=len(test_dataloader), device=device)\n",
    "    lr_scheduler.step()\n",
    "    if test_epoch_loss < best_loss:\n",
    "        counter = 0\n",
    "        best_loss = copy.deepcopy(test_epoch_loss)\n",
    "        best_loss_acc = copy.deepcopy(test_epoch_acc)\n",
    "        print('Best loss till now {:.4f}'.format(best_loss))\n",
    "        print('valid accuracy for this loss {:.4f}'.format(best_loss_acc))\n",
    "        print(\"saving the model\")\n",
    "        best_model = copy.deepcopy(model_res.state_dict())\n",
    "        \n",
    "    else:\n",
    "        counter = counter + 1\n",
    "        print(\"value of counter right now: \", counter)\n",
    "        if counter >= 7:\n",
    "            break\n",
    "        else:\n",
    "            pass\n",
    "\n",
    "# print(best_loss_acc)\n",
    "# Restoring best model\n",
    "model_res.load_state_dict(best_model)"
   ]
  },
  {
   "cell_type": "code",
   "execution_count": 32,
   "id": "ac820d51",
   "metadata": {
    "execution": {
     "iopub.execute_input": "2021-07-12T09:24:07.401535Z",
     "iopub.status.busy": "2021-07-12T09:24:07.400952Z",
     "iopub.status.idle": "2021-07-12T09:24:07.435214Z",
     "shell.execute_reply": "2021-07-12T09:24:07.434577Z"
    },
    "papermill": {
     "duration": 0.109486,
     "end_time": "2021-07-12T09:24:07.435360",
     "exception": false,
     "start_time": "2021-07-12T09:24:07.325874",
     "status": "completed"
    },
    "tags": []
   },
   "outputs": [
    {
     "name": "stdout",
     "output_type": "stream",
     "text": [
      "2.4076050523757933 tensor(0.3956, device='cuda:0')\n"
     ]
    }
   ],
   "source": [
    "print(best_loss, best_loss_acc)"
   ]
  },
  {
   "cell_type": "code",
   "execution_count": 33,
   "id": "524fa3fb",
   "metadata": {
    "execution": {
     "iopub.execute_input": "2021-07-12T09:24:07.581472Z",
     "iopub.status.busy": "2021-07-12T09:24:07.576903Z",
     "iopub.status.idle": "2021-07-12T09:24:07.671484Z",
     "shell.execute_reply": "2021-07-12T09:24:07.670941Z"
    },
    "papermill": {
     "duration": 0.166624,
     "end_time": "2021-07-12T09:24:07.671609",
     "exception": false,
     "start_time": "2021-07-12T09:24:07.504985",
     "status": "completed"
    },
    "tags": []
   },
   "outputs": [],
   "source": [
    "torch.save(model_res.state_dict(), 'res_model_no_aug_cifar100_10k_20k_lambda_10_sharp_03.pth')"
   ]
  },
  {
   "cell_type": "code",
   "execution_count": 34,
   "id": "35a8760d",
   "metadata": {
    "execution": {
     "iopub.execute_input": "2021-07-12T09:24:07.815689Z",
     "iopub.status.busy": "2021-07-12T09:24:07.814485Z",
     "iopub.status.idle": "2021-07-12T09:24:07.817401Z",
     "shell.execute_reply": "2021-07-12T09:24:07.816895Z"
    },
    "papermill": {
     "duration": 0.076514,
     "end_time": "2021-07-12T09:24:07.817505",
     "exception": false,
     "start_time": "2021-07-12T09:24:07.740991",
     "status": "completed"
    },
    "tags": []
   },
   "outputs": [],
   "source": [
    "def calculate_mean_confidence(predictions, labels):\n",
    "    \"\"\"Computes Average Probability, Calibration Error and Accuracy\"\"\"\n",
    "    probabilities = np.max(predictions, 1)\n",
    "    acc = (labels == np.argmax(predictions, 1)).sum()\n",
    "    avg_prob = np.average(probabilities)\n",
    "   \n",
    "    return avg_prob, avg_prob - acc / labels.shape[0], acc / labels.shape[0]"
   ]
  },
  {
   "cell_type": "code",
   "execution_count": 35,
   "id": "0e3a017e",
   "metadata": {
    "execution": {
     "iopub.execute_input": "2021-07-12T09:24:07.961916Z",
     "iopub.status.busy": "2021-07-12T09:24:07.961287Z",
     "iopub.status.idle": "2021-07-12T09:24:16.887014Z",
     "shell.execute_reply": "2021-07-12T09:24:16.886575Z"
    },
    "papermill": {
     "duration": 9.001071,
     "end_time": "2021-07-12T09:24:16.887138",
     "exception": false,
     "start_time": "2021-07-12T09:24:07.886067",
     "status": "completed"
    },
    "tags": []
   },
   "outputs": [
    {
     "name": "stderr",
     "output_type": "stream",
     "text": [
      "100%|██████████| 625/625 [00:08<00:00, 70.11it/s]"
     ]
    },
    {
     "name": "stdout",
     "output_type": "stream",
     "text": [
      "625 625\n",
      "(16, 100) (16,)\n"
     ]
    },
    {
     "name": "stderr",
     "output_type": "stream",
     "text": [
      "\n"
     ]
    }
   ],
   "source": [
    "predictions_res = []\n",
    "labels_res = []\n",
    "\n",
    "softmax = nn.Softmax(dim=1)\n",
    "with torch.no_grad():\n",
    "    model_res = model_res.eval()\n",
    "    for sample in tqdm(test_dataloader):\n",
    "        images = sample['images'].to(device)\n",
    "        labels = sample['labels'].to(device)\n",
    "        output = softmax(model_res(images))\n",
    "        predictions_res.append(output.cpu().numpy())\n",
    "        labels_res.append(labels.cpu().numpy())\n",
    "        \n",
    "print(len(labels_res), len(predictions_res))\n",
    "print(predictions_res[0].shape, labels_res[0].shape)"
   ]
  },
  {
   "cell_type": "code",
   "execution_count": 36,
   "id": "e521f41b",
   "metadata": {
    "execution": {
     "iopub.execute_input": "2021-07-12T09:24:17.076182Z",
     "iopub.status.busy": "2021-07-12T09:24:17.075398Z",
     "iopub.status.idle": "2021-07-12T09:24:17.193104Z",
     "shell.execute_reply": "2021-07-12T09:24:17.192634Z"
    },
    "papermill": {
     "duration": 0.212451,
     "end_time": "2021-07-12T09:24:17.193220",
     "exception": false,
     "start_time": "2021-07-12T09:24:16.980769",
     "status": "completed"
    },
    "tags": []
   },
   "outputs": [],
   "source": [
    "predictions_res_final = predictions_res[0]\n",
    "labels_res_final = labels_res[0]\n",
    "for i in range(1, len(predictions_res)):\n",
    "    predictions_res_final = np.concatenate((predictions_res_final, predictions_res[i]))\n",
    "    labels_res_final = np.concatenate((labels_res_final, labels_res[i]))"
   ]
  },
  {
   "cell_type": "code",
   "execution_count": 37,
   "id": "13efc8b7",
   "metadata": {
    "execution": {
     "iopub.execute_input": "2021-07-12T09:24:17.379900Z",
     "iopub.status.busy": "2021-07-12T09:24:17.379066Z",
     "iopub.status.idle": "2021-07-12T09:24:17.386115Z",
     "shell.execute_reply": "2021-07-12T09:24:17.386655Z"
    },
    "papermill": {
     "duration": 0.102411,
     "end_time": "2021-07-12T09:24:17.386790",
     "exception": false,
     "start_time": "2021-07-12T09:24:17.284379",
     "status": "completed"
    },
    "tags": []
   },
   "outputs": [
    {
     "name": "stdout",
     "output_type": "stream",
     "text": [
      "0.51141506 0.11581506433486938 0.3956\n"
     ]
    }
   ],
   "source": [
    "conf_score, cal_err, acc = calculate_mean_confidence(predictions_res_final, labels_res_final)\n",
    "print(conf_score, cal_err, acc)"
   ]
  },
  {
   "cell_type": "code",
   "execution_count": null,
   "id": "09af7b7d",
   "metadata": {
    "papermill": {
     "duration": 0.091858,
     "end_time": "2021-07-12T09:24:17.571235",
     "exception": false,
     "start_time": "2021-07-12T09:24:17.479377",
     "status": "completed"
    },
    "tags": []
   },
   "outputs": [],
   "source": []
  },
  {
   "cell_type": "code",
   "execution_count": null,
   "id": "28a8c29d",
   "metadata": {
    "papermill": {
     "duration": 0.091652,
     "end_time": "2021-07-12T09:24:17.754761",
     "exception": false,
     "start_time": "2021-07-12T09:24:17.663109",
     "status": "completed"
    },
    "tags": []
   },
   "outputs": [],
   "source": []
  },
  {
   "cell_type": "code",
   "execution_count": null,
   "id": "22946c64",
   "metadata": {
    "papermill": {
     "duration": 0.091866,
     "end_time": "2021-07-12T09:24:17.938004",
     "exception": false,
     "start_time": "2021-07-12T09:24:17.846138",
     "status": "completed"
    },
    "tags": []
   },
   "outputs": [],
   "source": []
  },
  {
   "cell_type": "code",
   "execution_count": null,
   "id": "c86d4833",
   "metadata": {
    "papermill": {
     "duration": 0.092843,
     "end_time": "2021-07-12T09:24:18.123854",
     "exception": false,
     "start_time": "2021-07-12T09:24:18.031011",
     "status": "completed"
    },
    "tags": []
   },
   "outputs": [],
   "source": []
  }
 ],
 "metadata": {
  "kernelspec": {
   "display_name": "Python 3",
   "language": "python",
   "name": "python3"
  },
  "language_info": {
   "codemirror_mode": {
    "name": "ipython",
    "version": 3
   },
   "file_extension": ".py",
   "mimetype": "text/x-python",
   "name": "python",
   "nbconvert_exporter": "python",
   "pygments_lexer": "ipython3",
   "version": "3.7.10"
  },
  "papermill": {
   "default_parameters": {},
   "duration": 1385.221333,
   "end_time": "2021-07-12T09:24:20.085364",
   "environment_variables": {},
   "exception": null,
   "input_path": "__notebook__.ipynb",
   "output_path": "__notebook__.ipynb",
   "parameters": {},
   "start_time": "2021-07-12T09:01:14.864031",
   "version": "2.3.3"
  },
  "widgets": {
   "application/vnd.jupyter.widget-state+json": {
    "state": {
     "08d56b63406d4b5f85899631cc2da7d6": {
      "model_module": "@jupyter-widgets/controls",
      "model_module_version": "1.5.0",
      "model_name": "HTMLModel",
      "state": {
       "_dom_classes": [],
       "_model_module": "@jupyter-widgets/controls",
       "_model_module_version": "1.5.0",
       "_model_name": "HTMLModel",
       "_view_count": null,
       "_view_module": "@jupyter-widgets/controls",
       "_view_module_version": "1.5.0",
       "_view_name": "HTMLView",
       "description": "",
       "description_tooltip": null,
       "layout": "IPY_MODEL_2ac4e481ea024f65a9d12347ebe2d4f3",
       "placeholder": "​",
       "style": "IPY_MODEL_da8d070394c842c895e25dafe792b755",
       "value": " 44.7M/44.7M [00:00&lt;00:00, 148MB/s]"
      }
     },
     "0e3528ba557f4a33bb283550c606cfa6": {
      "model_module": "@jupyter-widgets/base",
      "model_module_version": "1.2.0",
      "model_name": "LayoutModel",
      "state": {
       "_model_module": "@jupyter-widgets/base",
       "_model_module_version": "1.2.0",
       "_model_name": "LayoutModel",
       "_view_count": null,
       "_view_module": "@jupyter-widgets/base",
       "_view_module_version": "1.2.0",
       "_view_name": "LayoutView",
       "align_content": null,
       "align_items": null,
       "align_self": null,
       "border": null,
       "bottom": null,
       "display": null,
       "flex": null,
       "flex_flow": null,
       "grid_area": null,
       "grid_auto_columns": null,
       "grid_auto_flow": null,
       "grid_auto_rows": null,
       "grid_column": null,
       "grid_gap": null,
       "grid_row": null,
       "grid_template_areas": null,
       "grid_template_columns": null,
       "grid_template_rows": null,
       "height": null,
       "justify_content": null,
       "justify_items": null,
       "left": null,
       "margin": null,
       "max_height": null,
       "max_width": null,
       "min_height": null,
       "min_width": null,
       "object_fit": null,
       "object_position": null,
       "order": null,
       "overflow": null,
       "overflow_x": null,
       "overflow_y": null,
       "padding": null,
       "right": null,
       "top": null,
       "visibility": null,
       "width": null
      }
     },
     "2ac4e481ea024f65a9d12347ebe2d4f3": {
      "model_module": "@jupyter-widgets/base",
      "model_module_version": "1.2.0",
      "model_name": "LayoutModel",
      "state": {
       "_model_module": "@jupyter-widgets/base",
       "_model_module_version": "1.2.0",
       "_model_name": "LayoutModel",
       "_view_count": null,
       "_view_module": "@jupyter-widgets/base",
       "_view_module_version": "1.2.0",
       "_view_name": "LayoutView",
       "align_content": null,
       "align_items": null,
       "align_self": null,
       "border": null,
       "bottom": null,
       "display": null,
       "flex": null,
       "flex_flow": null,
       "grid_area": null,
       "grid_auto_columns": null,
       "grid_auto_flow": null,
       "grid_auto_rows": null,
       "grid_column": null,
       "grid_gap": null,
       "grid_row": null,
       "grid_template_areas": null,
       "grid_template_columns": null,
       "grid_template_rows": null,
       "height": null,
       "justify_content": null,
       "justify_items": null,
       "left": null,
       "margin": null,
       "max_height": null,
       "max_width": null,
       "min_height": null,
       "min_width": null,
       "object_fit": null,
       "object_position": null,
       "order": null,
       "overflow": null,
       "overflow_x": null,
       "overflow_y": null,
       "padding": null,
       "right": null,
       "top": null,
       "visibility": null,
       "width": null
      }
     },
     "3dddee4fe4e94f2abbec860d84e6c9ff": {
      "model_module": "@jupyter-widgets/controls",
      "model_module_version": "1.5.0",
      "model_name": "DescriptionStyleModel",
      "state": {
       "_model_module": "@jupyter-widgets/controls",
       "_model_module_version": "1.5.0",
       "_model_name": "DescriptionStyleModel",
       "_view_count": null,
       "_view_module": "@jupyter-widgets/base",
       "_view_module_version": "1.2.0",
       "_view_name": "StyleView",
       "description_width": ""
      }
     },
     "771df1de1c16485b99341e692081d762": {
      "model_module": "@jupyter-widgets/controls",
      "model_module_version": "1.5.0",
      "model_name": "FloatProgressModel",
      "state": {
       "_dom_classes": [],
       "_model_module": "@jupyter-widgets/controls",
       "_model_module_version": "1.5.0",
       "_model_name": "FloatProgressModel",
       "_view_count": null,
       "_view_module": "@jupyter-widgets/controls",
       "_view_module_version": "1.5.0",
       "_view_name": "ProgressView",
       "bar_style": "success",
       "description": "",
       "description_tooltip": null,
       "layout": "IPY_MODEL_0e3528ba557f4a33bb283550c606cfa6",
       "max": 46827520.0,
       "min": 0.0,
       "orientation": "horizontal",
       "style": "IPY_MODEL_eca2a01b1b8b406393e84e8c7c6d2a83",
       "value": 46827520.0
      }
     },
     "c22fffa076fe40a184884a3f1a74bd48": {
      "model_module": "@jupyter-widgets/base",
      "model_module_version": "1.2.0",
      "model_name": "LayoutModel",
      "state": {
       "_model_module": "@jupyter-widgets/base",
       "_model_module_version": "1.2.0",
       "_model_name": "LayoutModel",
       "_view_count": null,
       "_view_module": "@jupyter-widgets/base",
       "_view_module_version": "1.2.0",
       "_view_name": "LayoutView",
       "align_content": null,
       "align_items": null,
       "align_self": null,
       "border": null,
       "bottom": null,
       "display": null,
       "flex": null,
       "flex_flow": null,
       "grid_area": null,
       "grid_auto_columns": null,
       "grid_auto_flow": null,
       "grid_auto_rows": null,
       "grid_column": null,
       "grid_gap": null,
       "grid_row": null,
       "grid_template_areas": null,
       "grid_template_columns": null,
       "grid_template_rows": null,
       "height": null,
       "justify_content": null,
       "justify_items": null,
       "left": null,
       "margin": null,
       "max_height": null,
       "max_width": null,
       "min_height": null,
       "min_width": null,
       "object_fit": null,
       "object_position": null,
       "order": null,
       "overflow": null,
       "overflow_x": null,
       "overflow_y": null,
       "padding": null,
       "right": null,
       "top": null,
       "visibility": null,
       "width": null
      }
     },
     "cacb58b9cee74af79a272645ab5cb1bc": {
      "model_module": "@jupyter-widgets/controls",
      "model_module_version": "1.5.0",
      "model_name": "HTMLModel",
      "state": {
       "_dom_classes": [],
       "_model_module": "@jupyter-widgets/controls",
       "_model_module_version": "1.5.0",
       "_model_name": "HTMLModel",
       "_view_count": null,
       "_view_module": "@jupyter-widgets/controls",
       "_view_module_version": "1.5.0",
       "_view_name": "HTMLView",
       "description": "",
       "description_tooltip": null,
       "layout": "IPY_MODEL_c22fffa076fe40a184884a3f1a74bd48",
       "placeholder": "​",
       "style": "IPY_MODEL_3dddee4fe4e94f2abbec860d84e6c9ff",
       "value": "100%"
      }
     },
     "d335c465dcaa47848b48a51eba79a4a4": {
      "model_module": "@jupyter-widgets/base",
      "model_module_version": "1.2.0",
      "model_name": "LayoutModel",
      "state": {
       "_model_module": "@jupyter-widgets/base",
       "_model_module_version": "1.2.0",
       "_model_name": "LayoutModel",
       "_view_count": null,
       "_view_module": "@jupyter-widgets/base",
       "_view_module_version": "1.2.0",
       "_view_name": "LayoutView",
       "align_content": null,
       "align_items": null,
       "align_self": null,
       "border": null,
       "bottom": null,
       "display": null,
       "flex": null,
       "flex_flow": null,
       "grid_area": null,
       "grid_auto_columns": null,
       "grid_auto_flow": null,
       "grid_auto_rows": null,
       "grid_column": null,
       "grid_gap": null,
       "grid_row": null,
       "grid_template_areas": null,
       "grid_template_columns": null,
       "grid_template_rows": null,
       "height": null,
       "justify_content": null,
       "justify_items": null,
       "left": null,
       "margin": null,
       "max_height": null,
       "max_width": null,
       "min_height": null,
       "min_width": null,
       "object_fit": null,
       "object_position": null,
       "order": null,
       "overflow": null,
       "overflow_x": null,
       "overflow_y": null,
       "padding": null,
       "right": null,
       "top": null,
       "visibility": null,
       "width": null
      }
     },
     "da8d070394c842c895e25dafe792b755": {
      "model_module": "@jupyter-widgets/controls",
      "model_module_version": "1.5.0",
      "model_name": "DescriptionStyleModel",
      "state": {
       "_model_module": "@jupyter-widgets/controls",
       "_model_module_version": "1.5.0",
       "_model_name": "DescriptionStyleModel",
       "_view_count": null,
       "_view_module": "@jupyter-widgets/base",
       "_view_module_version": "1.2.0",
       "_view_name": "StyleView",
       "description_width": ""
      }
     },
     "ea541a4a664f4e949020fa4357882d80": {
      "model_module": "@jupyter-widgets/controls",
      "model_module_version": "1.5.0",
      "model_name": "HBoxModel",
      "state": {
       "_dom_classes": [],
       "_model_module": "@jupyter-widgets/controls",
       "_model_module_version": "1.5.0",
       "_model_name": "HBoxModel",
       "_view_count": null,
       "_view_module": "@jupyter-widgets/controls",
       "_view_module_version": "1.5.0",
       "_view_name": "HBoxView",
       "box_style": "",
       "children": [
        "IPY_MODEL_cacb58b9cee74af79a272645ab5cb1bc",
        "IPY_MODEL_771df1de1c16485b99341e692081d762",
        "IPY_MODEL_08d56b63406d4b5f85899631cc2da7d6"
       ],
       "layout": "IPY_MODEL_d335c465dcaa47848b48a51eba79a4a4"
      }
     },
     "eca2a01b1b8b406393e84e8c7c6d2a83": {
      "model_module": "@jupyter-widgets/controls",
      "model_module_version": "1.5.0",
      "model_name": "ProgressStyleModel",
      "state": {
       "_model_module": "@jupyter-widgets/controls",
       "_model_module_version": "1.5.0",
       "_model_name": "ProgressStyleModel",
       "_view_count": null,
       "_view_module": "@jupyter-widgets/base",
       "_view_module_version": "1.2.0",
       "_view_name": "StyleView",
       "bar_color": null,
       "description_width": ""
      }
     }
    },
    "version_major": 2,
    "version_minor": 0
   }
  }
 },
 "nbformat": 4,
 "nbformat_minor": 5
}
