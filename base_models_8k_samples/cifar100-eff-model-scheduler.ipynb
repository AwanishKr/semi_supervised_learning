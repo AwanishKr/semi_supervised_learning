{
 "cells": [
  {
   "cell_type": "code",
   "execution_count": 1,
   "id": "floppy-albert",
   "metadata": {
    "_cell_guid": "b1076dfc-b9ad-4769-8c92-a6c4dae69d19",
    "_uuid": "8f2839f25d086af736a60e9eeb907d3b93b6e0e5",
    "execution": {
     "iopub.execute_input": "2021-06-30T11:40:13.995777Z",
     "iopub.status.busy": "2021-06-30T11:40:13.994963Z",
     "iopub.status.idle": "2021-06-30T11:40:25.881401Z",
     "shell.execute_reply": "2021-06-30T11:40:25.880257Z"
    },
    "papermill": {
     "duration": 11.919281,
     "end_time": "2021-06-30T11:40:25.881590",
     "exception": false,
     "start_time": "2021-06-30T11:40:13.962309",
     "status": "completed"
    },
    "tags": []
   },
   "outputs": [
    {
     "name": "stdout",
     "output_type": "stream",
     "text": [
      "Collecting efficientnet_pytorch\r\n",
      "  Downloading efficientnet_pytorch-0.7.1.tar.gz (21 kB)\r\n",
      "Requirement already satisfied: torch in /opt/conda/lib/python3.7/site-packages (from efficientnet_pytorch) (1.7.0)\r\n",
      "Requirement already satisfied: future in /opt/conda/lib/python3.7/site-packages (from torch->efficientnet_pytorch) (0.18.2)\r\n",
      "Requirement already satisfied: typing_extensions in /opt/conda/lib/python3.7/site-packages (from torch->efficientnet_pytorch) (3.7.4.3)\r\n",
      "Requirement already satisfied: dataclasses in /opt/conda/lib/python3.7/site-packages (from torch->efficientnet_pytorch) (0.6)\r\n",
      "Requirement already satisfied: numpy in /opt/conda/lib/python3.7/site-packages (from torch->efficientnet_pytorch) (1.19.5)\r\n",
      "Building wheels for collected packages: efficientnet-pytorch\r\n",
      "  Building wheel for efficientnet-pytorch (setup.py) ... \u001b[?25l-\b \b\\\b \bdone\r\n",
      "\u001b[?25h  Created wheel for efficientnet-pytorch: filename=efficientnet_pytorch-0.7.1-py3-none-any.whl size=16446 sha256=6765f166fe1b2964151bbfef2ba9ecf7f03c5c9882e5a5bd7449353f61892340\r\n",
      "  Stored in directory: /root/.cache/pip/wheels/0e/cc/b2/49e74588263573ff778da58cc99b9c6349b496636a7e165be6\r\n",
      "Successfully built efficientnet-pytorch\r\n",
      "Installing collected packages: efficientnet-pytorch\r\n",
      "Successfully installed efficientnet-pytorch-0.7.1\r\n"
     ]
    }
   ],
   "source": [
    "!pip install efficientnet_pytorch"
   ]
  },
  {
   "cell_type": "code",
   "execution_count": 2,
   "id": "cooperative-hometown",
   "metadata": {
    "execution": {
     "iopub.execute_input": "2021-06-30T11:40:25.933212Z",
     "iopub.status.busy": "2021-06-30T11:40:25.932178Z",
     "iopub.status.idle": "2021-06-30T11:40:28.464480Z",
     "shell.execute_reply": "2021-06-30T11:40:28.463846Z"
    },
    "papermill": {
     "duration": 2.561029,
     "end_time": "2021-06-30T11:40:28.464623",
     "exception": false,
     "start_time": "2021-06-30T11:40:25.903594",
     "status": "completed"
    },
    "tags": []
   },
   "outputs": [],
   "source": [
    "import os\n",
    "import time\n",
    "import copy\n",
    "import pickle\n",
    "import random\n",
    "import numpy as np\n",
    "import pandas as pd\n",
    "\n",
    "import itertools\n",
    "from PIL import Image\n",
    "from tqdm import tqdm\n",
    "\n",
    "from scipy.stats import entropy\n",
    "\n",
    "import torch\n",
    "import torch.nn as nn\n",
    "import torch.optim as optim\n",
    "from torch.optim.lr_scheduler import MultiStepLR\n",
    "\n",
    "import torchvision\n",
    "import torchvision.transforms as transforms\n",
    "from efficientnet_pytorch import EfficientNet\n",
    "\n",
    "from torch.utils.data import Dataset, DataLoader, Subset\n",
    "random.seed(100)"
   ]
  },
  {
   "cell_type": "code",
   "execution_count": 3,
   "id": "unauthorized-allowance",
   "metadata": {
    "execution": {
     "iopub.execute_input": "2021-06-30T11:40:28.515084Z",
     "iopub.status.busy": "2021-06-30T11:40:28.514018Z",
     "iopub.status.idle": "2021-06-30T11:40:28.517607Z",
     "shell.execute_reply": "2021-06-30T11:40:28.517058Z"
    },
    "papermill": {
     "duration": 0.032051,
     "end_time": "2021-06-30T11:40:28.517736",
     "exception": false,
     "start_time": "2021-06-30T11:40:28.485685",
     "status": "completed"
    },
    "tags": []
   },
   "outputs": [],
   "source": [
    "batch_size = 16\n",
    "train_transforms = transforms.Compose([\n",
    "        transforms.RandomHorizontalFlip(p=0.25),\n",
    "        transforms.RandomVerticalFlip(p=0.25),\n",
    "        transforms.RandomAffine(degrees=20, translate=(0.25, 0.25), shear=(-0.25, 0.25)),\n",
    "        transforms.ToTensor(),\n",
    "        transforms.Normalize((0.5, 0.5, 0.5), (0.5, 0.5, 0.5))\n",
    "])\n",
    "\n",
    "\n",
    "test_transforms = transforms.Compose([\n",
    "        transforms.ToTensor(),\n",
    "        transforms.Normalize((0.5, 0.5, 0.5), (0.5, 0.5, 0.5))\n",
    "\n",
    "])"
   ]
  },
  {
   "cell_type": "code",
   "execution_count": 4,
   "id": "periodic-runner",
   "metadata": {
    "execution": {
     "iopub.execute_input": "2021-06-30T11:40:28.565942Z",
     "iopub.status.busy": "2021-06-30T11:40:28.565002Z",
     "iopub.status.idle": "2021-06-30T11:40:28.568657Z",
     "shell.execute_reply": "2021-06-30T11:40:28.568066Z"
    },
    "papermill": {
     "duration": 0.029764,
     "end_time": "2021-06-30T11:40:28.568816",
     "exception": false,
     "start_time": "2021-06-30T11:40:28.539052",
     "status": "completed"
    },
    "tags": []
   },
   "outputs": [],
   "source": [
    "def unpickle(file):\n",
    "    with open(file, 'rb') as fo:\n",
    "        dictt = pickle.load(fo, encoding='latin1')\n",
    "    return dictt"
   ]
  },
  {
   "cell_type": "code",
   "execution_count": 5,
   "id": "unnecessary-holder",
   "metadata": {
    "execution": {
     "iopub.execute_input": "2021-06-30T11:40:28.616030Z",
     "iopub.status.busy": "2021-06-30T11:40:28.615384Z",
     "iopub.status.idle": "2021-06-30T11:40:32.731567Z",
     "shell.execute_reply": "2021-06-30T11:40:32.730954Z"
    },
    "papermill": {
     "duration": 4.141628,
     "end_time": "2021-06-30T11:40:32.731771",
     "exception": false,
     "start_time": "2021-06-30T11:40:28.590143",
     "status": "completed"
    },
    "tags": []
   },
   "outputs": [],
   "source": [
    "# Read dictionary\n",
    "data_train = unpickle(\"../input/cifar100/train\")\n",
    "data_test = unpickle(\"../input/cifar100/test\")\n",
    "data_meta = unpickle(\"../input/cifar100/meta\")\n",
    "\n",
    "subCategory = pd.DataFrame(data_meta['fine_label_names'], columns=['SubClass'])\n",
    "subCategoryDict = subCategory.to_dict()"
   ]
  },
  {
   "cell_type": "code",
   "execution_count": 6,
   "id": "departmental-burden",
   "metadata": {
    "execution": {
     "iopub.execute_input": "2021-06-30T11:40:32.785958Z",
     "iopub.status.busy": "2021-06-30T11:40:32.783552Z",
     "iopub.status.idle": "2021-06-30T11:40:32.788878Z",
     "shell.execute_reply": "2021-06-30T11:40:32.788273Z"
    },
    "papermill": {
     "duration": 0.034844,
     "end_time": "2021-06-30T11:40:32.789011",
     "exception": false,
     "start_time": "2021-06-30T11:40:32.754167",
     "status": "completed"
    },
    "tags": []
   },
   "outputs": [
    {
     "name": "stdout",
     "output_type": "stream",
     "text": [
      "(10000, 3072) (10000, 3072)\n",
      "<class 'numpy.ndarray'> <class 'list'>\n"
     ]
    }
   ],
   "source": [
    "# only use 10000 labelled samples\n",
    "x_train, y_train = data_train['data'][0:10000], data_train['fine_labels'][0:10000]\n",
    "x_valid, y_valid = data_test['data'], data_test['fine_labels']\n",
    "print(x_train.shape, x_valid.shape)\n",
    "print(type(x_train), type(y_train))"
   ]
  },
  {
   "cell_type": "code",
   "execution_count": 7,
   "id": "suspended-ecuador",
   "metadata": {
    "execution": {
     "iopub.execute_input": "2021-06-30T11:40:32.847907Z",
     "iopub.status.busy": "2021-06-30T11:40:32.846170Z",
     "iopub.status.idle": "2021-06-30T11:40:32.851017Z",
     "shell.execute_reply": "2021-06-30T11:40:32.851822Z"
    },
    "papermill": {
     "duration": 0.040935,
     "end_time": "2021-06-30T11:40:32.852035",
     "exception": false,
     "start_time": "2021-06-30T11:40:32.811100",
     "status": "completed"
    },
    "tags": []
   },
   "outputs": [
    {
     "name": "stdout",
     "output_type": "stream",
     "text": [
      "<class 'numpy.ndarray'> <class 'numpy.ndarray'> <class 'numpy.ndarray'> <class 'numpy.ndarray'>\n",
      "(10000,) (10000,)\n",
      "99 99\n"
     ]
    }
   ],
   "source": [
    "# .transpose(0,2,3,1)\n",
    "\n",
    "x_train = x_train.reshape(len(x_train),3,32,32)\n",
    "x_valid = x_valid.reshape(len(x_valid),3,32,32)\n",
    "\n",
    "x_train, y_train = np.asarray(x_train), np.asarray(y_train)\n",
    "x_valid, y_valid = np.asarray(x_valid), np.asarray(y_valid)\n",
    "\n",
    "print(type(x_train), type(y_train), type(x_valid), type(y_valid))\n",
    "print(y_train.shape, y_valid.shape)\n",
    "print(np.max(y_train), np.max(y_valid))"
   ]
  },
  {
   "cell_type": "code",
   "execution_count": 8,
   "id": "light-treasurer",
   "metadata": {
    "execution": {
     "iopub.execute_input": "2021-06-30T11:40:32.906518Z",
     "iopub.status.busy": "2021-06-30T11:40:32.905825Z",
     "iopub.status.idle": "2021-06-30T11:40:32.909928Z",
     "shell.execute_reply": "2021-06-30T11:40:32.909365Z"
    },
    "papermill": {
     "duration": 0.033505,
     "end_time": "2021-06-30T11:40:32.910052",
     "exception": false,
     "start_time": "2021-06-30T11:40:32.876547",
     "status": "completed"
    },
    "tags": []
   },
   "outputs": [],
   "source": [
    "class MyDataset(Dataset):\n",
    "    def __init__(self, data, targets, transform=None):\n",
    "        self.data = data\n",
    "        self.targets = torch.LongTensor(targets)\n",
    "        self.transform = transform\n",
    "\n",
    "    def __getitem__(self, index):\n",
    "        x = self.data[index]\n",
    "        y = self.targets[index]\n",
    "        if self.transform:\n",
    "            x = Image.fromarray(self.data[index].astype(np.uint8).transpose(1,2,0))\n",
    "            x = self.transform(x)\n",
    "        return x, y\n",
    "\n",
    "    def __len__(self):\n",
    "        return len(self.data)"
   ]
  },
  {
   "cell_type": "code",
   "execution_count": 9,
   "id": "satisfied-russian",
   "metadata": {
    "execution": {
     "iopub.execute_input": "2021-06-30T11:40:32.969454Z",
     "iopub.status.busy": "2021-06-30T11:40:32.968307Z",
     "iopub.status.idle": "2021-06-30T11:40:32.978027Z",
     "shell.execute_reply": "2021-06-30T11:40:32.978830Z"
    },
    "papermill": {
     "duration": 0.046591,
     "end_time": "2021-06-30T11:40:32.979065",
     "exception": false,
     "start_time": "2021-06-30T11:40:32.932474",
     "status": "completed"
    },
    "tags": []
   },
   "outputs": [
    {
     "name": "stdout",
     "output_type": "stream",
     "text": [
      "10000 10000\n",
      "625 625\n"
     ]
    }
   ],
   "source": [
    "train_dataset = MyDataset(x_train, y_train, transform=train_transforms)\n",
    "valid_dataset = MyDataset(x_valid, y_valid, transform=test_transforms)\n",
    "\n",
    "train_dataloader = DataLoader(train_dataset, batch_size=batch_size, shuffle=True, num_workers=4, drop_last=True)\n",
    "valid_dataloader = DataLoader(valid_dataset, batch_size=batch_size, num_workers=4)\n",
    "\n",
    "dataloaders = {'train': train_dataloader, 'val':valid_dataloader}\n",
    "dataset_sizes = {'train': len(train_dataset), 'val':len(valid_dataset)}\n",
    "\n",
    "print(dataset_sizes['train'], dataset_sizes['val'])\n",
    "print(len(train_dataloader), len(valid_dataloader))"
   ]
  },
  {
   "cell_type": "code",
   "execution_count": 10,
   "id": "responsible-mobility",
   "metadata": {
    "execution": {
     "iopub.execute_input": "2021-06-30T11:40:33.042340Z",
     "iopub.status.busy": "2021-06-30T11:40:33.041512Z",
     "iopub.status.idle": "2021-06-30T11:40:33.046014Z",
     "shell.execute_reply": "2021-06-30T11:40:33.046825Z"
    },
    "papermill": {
     "duration": 0.044432,
     "end_time": "2021-06-30T11:40:33.047110",
     "exception": false,
     "start_time": "2021-06-30T11:40:33.002678",
     "status": "completed"
    },
    "tags": []
   },
   "outputs": [
    {
     "name": "stdout",
     "output_type": "stream",
     "text": [
      "8000\n"
     ]
    }
   ],
   "source": [
    "# train all three models on this sampled_dataset \n",
    "# N is number of samples\n",
    "# this subset is for efficientNet\n",
    "\n",
    "N = 8000\n",
    "random_idx = random.sample(range(0, 10000), N)\n",
    "sampled_dataset = Subset(train_dataset, random_idx)\n",
    "sampled_dataloader = DataLoader(sampled_dataset, batch_size=batch_size, shuffle=True, num_workers=4, drop_last=True)\n",
    "\n",
    "print(len(sampled_dataset))"
   ]
  },
  {
   "cell_type": "code",
   "execution_count": 11,
   "id": "crazy-chapel",
   "metadata": {
    "execution": {
     "iopub.execute_input": "2021-06-30T11:40:33.103574Z",
     "iopub.status.busy": "2021-06-30T11:40:33.102731Z",
     "iopub.status.idle": "2021-06-30T11:40:33.106171Z",
     "shell.execute_reply": "2021-06-30T11:40:33.106656Z"
    },
    "papermill": {
     "duration": 0.034551,
     "end_time": "2021-06-30T11:40:33.106829",
     "exception": false,
     "start_time": "2021-06-30T11:40:33.072278",
     "status": "completed"
    },
    "tags": []
   },
   "outputs": [],
   "source": [
    "def train(model, dataloader, optimizer, criterion, dataset_size, device):\n",
    "    model = model.train()\n",
    "    running_loss = 0\n",
    "    running_corrects = 0\n",
    "    for inputs, labels in dataloader:\n",
    "        inputs = inputs.to(device)\n",
    "        labels = labels.to(device)\n",
    "        optimizer.zero_grad()\n",
    "        outputs = model(inputs)\n",
    "        _, preds = torch.max(outputs, 1)\n",
    "        loss = criterion(outputs, labels)\n",
    "        loss.backward()\n",
    "        optimizer.step()\n",
    "        running_loss += loss.item() * inputs.size(0)\n",
    "        running_corrects += torch.sum(preds == labels.data)  \n",
    "    return running_loss / dataset_size, running_corrects.double() / dataset_size"
   ]
  },
  {
   "cell_type": "code",
   "execution_count": 12,
   "id": "sweet-network",
   "metadata": {
    "execution": {
     "iopub.execute_input": "2021-06-30T11:40:33.161573Z",
     "iopub.status.busy": "2021-06-30T11:40:33.160833Z",
     "iopub.status.idle": "2021-06-30T11:40:33.164220Z",
     "shell.execute_reply": "2021-06-30T11:40:33.164722Z"
    },
    "papermill": {
     "duration": 0.034594,
     "end_time": "2021-06-30T11:40:33.164886",
     "exception": false,
     "start_time": "2021-06-30T11:40:33.130292",
     "status": "completed"
    },
    "tags": []
   },
   "outputs": [],
   "source": [
    "def evaluate(model, dataloader, criterion, dataset_size, device):\n",
    "    running_corrects = 0\n",
    "    running_loss = 0\n",
    "    model = model.eval()\n",
    "    with torch.no_grad():\n",
    "        for inputs, labels in dataloader:\n",
    "            inputs = inputs.to(device)\n",
    "            labels = labels.to(device)\n",
    "            outputs = model(inputs)\n",
    "            _, preds = torch.max(outputs, 1)\n",
    "            loss = criterion(outputs, labels)\n",
    "            running_loss += loss.item() * inputs.size(0)\n",
    "            running_corrects += torch.sum(preds == labels.data)  \n",
    "    return running_loss / dataset_size, running_corrects.double() / dataset_size"
   ]
  },
  {
   "cell_type": "code",
   "execution_count": 13,
   "id": "major-youth",
   "metadata": {
    "execution": {
     "iopub.execute_input": "2021-06-30T11:40:33.218690Z",
     "iopub.status.busy": "2021-06-30T11:40:33.217791Z",
     "iopub.status.idle": "2021-06-30T11:40:33.221261Z",
     "shell.execute_reply": "2021-06-30T11:40:33.221727Z"
    },
    "papermill": {
     "duration": 0.033262,
     "end_time": "2021-06-30T11:40:33.221881",
     "exception": false,
     "start_time": "2021-06-30T11:40:33.188619",
     "status": "completed"
    },
    "tags": []
   },
   "outputs": [],
   "source": [
    "class Efficient(nn.Module):\n",
    "    def __init__(self):\n",
    "        super().__init__()\n",
    "        self.base_model = EfficientNet.from_pretrained('efficientnet-b0')\n",
    "        self.linear = nn.Linear(in_features=self.base_model._fc.in_features, out_features=100)\n",
    "        self.base_model._fc = self.linear\n",
    "        \n",
    "    def forward(self, x): \n",
    "        x = self.base_model(x)\n",
    "        return x"
   ]
  },
  {
   "cell_type": "code",
   "execution_count": 14,
   "id": "economic-silicon",
   "metadata": {
    "execution": {
     "iopub.execute_input": "2021-06-30T11:40:33.294416Z",
     "iopub.status.busy": "2021-06-30T11:40:33.293635Z",
     "iopub.status.idle": "2021-06-30T11:40:40.547847Z",
     "shell.execute_reply": "2021-06-30T11:40:40.546820Z"
    },
    "papermill": {
     "duration": 7.301449,
     "end_time": "2021-06-30T11:40:40.547999",
     "exception": false,
     "start_time": "2021-06-30T11:40:33.246550",
     "status": "completed"
    },
    "tags": []
   },
   "outputs": [
    {
     "name": "stderr",
     "output_type": "stream",
     "text": [
      "Downloading: \"https://github.com/lukemelas/EfficientNet-PyTorch/releases/download/1.0/efficientnet-b0-355c32eb.pth\" to /root/.cache/torch/hub/checkpoints/efficientnet-b0-355c32eb.pth\n"
     ]
    },
    {
     "data": {
      "application/vnd.jupyter.widget-view+json": {
       "model_id": "162e69ec2a424be68faca34eac0e8d95",
       "version_major": 2,
       "version_minor": 0
      },
      "text/plain": [
       "  0%|          | 0.00/20.4M [00:00<?, ?B/s]"
      ]
     },
     "metadata": {},
     "output_type": "display_data"
    },
    {
     "name": "stdout",
     "output_type": "stream",
     "text": [
      "Loaded pretrained weights for efficientnet-b0\n"
     ]
    }
   ],
   "source": [
    "model_eff = Efficient()\n",
    "device = torch.device(\"cuda:0\" if torch.cuda.is_available() else \"cpu\")\n",
    "model_eff = model_eff.to(device)\n",
    "optimizer = optim.Adam(model_eff.parameters(), lr=0.0001)\n",
    "scheduler = MultiStepLR(optimizer, milestones=[34], gamma=0.1)\n",
    "criterion = nn.CrossEntropyLoss()"
   ]
  },
  {
   "cell_type": "code",
   "execution_count": 15,
   "id": "buried-apache",
   "metadata": {
    "execution": {
     "iopub.execute_input": "2021-06-30T11:40:40.611705Z",
     "iopub.status.busy": "2021-06-30T11:40:40.610666Z",
     "iopub.status.idle": "2021-06-30T13:06:59.526792Z",
     "shell.execute_reply": "2021-06-30T13:06:59.525749Z"
    },
    "papermill": {
     "duration": 5178.952898,
     "end_time": "2021-06-30T13:06:59.526946",
     "exception": false,
     "start_time": "2021-06-30T11:40:40.574048",
     "status": "completed"
    },
    "tags": []
   },
   "outputs": [
    {
     "name": "stdout",
     "output_type": "stream",
     "text": [
      "Epoch 1/120\n",
      "----------\n",
      "Train Loss: 4.5499, Train Acc: 0.0302\n",
      "Test Loss: 4.3481, Test Acc: 0.0637\n",
      "Best loss till now 4.3481, saving model\n",
      "valid accuracy for this loss 0.0637, saving model\n",
      "Epoch 2/120\n",
      "----------\n",
      "Train Loss: 4.1521, Train Acc: 0.0860\n",
      "Test Loss: 3.9367, Test Acc: 0.1374\n",
      "Best loss till now 3.9367, saving model\n",
      "valid accuracy for this loss 0.1374, saving model\n",
      "Epoch 3/120\n",
      "----------\n",
      "Train Loss: 3.8252, Train Acc: 0.1369\n",
      "Test Loss: 3.6094, Test Acc: 0.1837\n",
      "Best loss till now 3.6094, saving model\n",
      "valid accuracy for this loss 0.1837, saving model\n",
      "Epoch 4/120\n",
      "----------\n",
      "Train Loss: 3.5683, Train Acc: 0.1641\n",
      "Test Loss: 3.3835, Test Acc: 0.2166\n",
      "Best loss till now 3.3835, saving model\n",
      "valid accuracy for this loss 0.2166, saving model\n",
      "Epoch 5/120\n",
      "----------\n",
      "Train Loss: 3.3838, Train Acc: 0.1920\n",
      "Test Loss: 3.1554, Test Acc: 0.2461\n",
      "Best loss till now 3.1554, saving model\n",
      "valid accuracy for this loss 0.2461, saving model\n",
      "Epoch 6/120\n",
      "----------\n",
      "Train Loss: 3.2259, Train Acc: 0.2155\n",
      "Test Loss: 3.0076, Test Acc: 0.2659\n",
      "Best loss till now 3.0076, saving model\n",
      "valid accuracy for this loss 0.2659, saving model\n",
      "Epoch 7/120\n",
      "----------\n",
      "Train Loss: 3.1326, Train Acc: 0.2393\n",
      "Test Loss: 2.8787, Test Acc: 0.2887\n",
      "Best loss till now 2.8787, saving model\n",
      "valid accuracy for this loss 0.2887, saving model\n",
      "Epoch 8/120\n",
      "----------\n",
      "Train Loss: 3.0447, Train Acc: 0.2495\n",
      "Test Loss: 2.7841, Test Acc: 0.3071\n",
      "Best loss till now 2.7841, saving model\n",
      "valid accuracy for this loss 0.3071, saving model\n",
      "Epoch 9/120\n",
      "----------\n",
      "Train Loss: 2.9527, Train Acc: 0.2716\n",
      "Test Loss: 2.7367, Test Acc: 0.3171\n",
      "Best loss till now 2.7367, saving model\n",
      "valid accuracy for this loss 0.3171, saving model\n",
      "Epoch 10/120\n",
      "----------\n",
      "Train Loss: 2.8661, Train Acc: 0.2791\n",
      "Test Loss: 2.6603, Test Acc: 0.3270\n",
      "Best loss till now 2.6603, saving model\n",
      "valid accuracy for this loss 0.3270, saving model\n",
      "Epoch 11/120\n",
      "----------\n",
      "Train Loss: 2.8137, Train Acc: 0.2889\n",
      "Test Loss: 2.6312, Test Acc: 0.3325\n",
      "Best loss till now 2.6312, saving model\n",
      "valid accuracy for this loss 0.3325, saving model\n",
      "Epoch 12/120\n",
      "----------\n",
      "Train Loss: 2.7377, Train Acc: 0.3019\n",
      "Test Loss: 2.5705, Test Acc: 0.3486\n",
      "Best loss till now 2.5705, saving model\n",
      "valid accuracy for this loss 0.3486, saving model\n",
      "Epoch 13/120\n",
      "----------\n",
      "Train Loss: 2.6819, Train Acc: 0.3211\n",
      "Test Loss: 2.5250, Test Acc: 0.3589\n",
      "Best loss till now 2.5250, saving model\n",
      "valid accuracy for this loss 0.3589, saving model\n",
      "Epoch 14/120\n",
      "----------\n",
      "Train Loss: 2.6311, Train Acc: 0.3227\n",
      "Test Loss: 2.4923, Test Acc: 0.3582\n",
      "Best loss till now 2.4923, saving model\n",
      "valid accuracy for this loss 0.3582, saving model\n",
      "Epoch 15/120\n",
      "----------\n",
      "Train Loss: 2.5592, Train Acc: 0.3416\n",
      "Test Loss: 2.4751, Test Acc: 0.3639\n",
      "Best loss till now 2.4751, saving model\n",
      "valid accuracy for this loss 0.3639, saving model\n",
      "Epoch 16/120\n",
      "----------\n",
      "Train Loss: 2.5405, Train Acc: 0.3506\n",
      "Test Loss: 2.4232, Test Acc: 0.3769\n",
      "Best loss till now 2.4232, saving model\n",
      "valid accuracy for this loss 0.3769, saving model\n",
      "Epoch 17/120\n",
      "----------\n",
      "Train Loss: 2.4539, Train Acc: 0.3551\n",
      "Test Loss: 2.4110, Test Acc: 0.3778\n",
      "Best loss till now 2.4110, saving model\n",
      "valid accuracy for this loss 0.3778, saving model\n",
      "Epoch 18/120\n",
      "----------\n",
      "Train Loss: 2.4304, Train Acc: 0.3614\n",
      "Test Loss: 2.3837, Test Acc: 0.3851\n",
      "Best loss till now 2.3837, saving model\n",
      "valid accuracy for this loss 0.3851, saving model\n",
      "Epoch 19/120\n",
      "----------\n",
      "Train Loss: 2.3942, Train Acc: 0.3671\n",
      "Test Loss: 2.3977, Test Acc: 0.3796\n",
      "value of counter right now:  1\n",
      "Epoch 20/120\n",
      "----------\n",
      "Train Loss: 2.3609, Train Acc: 0.3778\n",
      "Test Loss: 2.3597, Test Acc: 0.3866\n",
      "Best loss till now 2.3597, saving model\n",
      "valid accuracy for this loss 0.3866, saving model\n",
      "Epoch 21/120\n",
      "----------\n",
      "Train Loss: 2.3405, Train Acc: 0.3765\n",
      "Test Loss: 2.3572, Test Acc: 0.3889\n",
      "Best loss till now 2.3572, saving model\n",
      "valid accuracy for this loss 0.3889, saving model\n",
      "Epoch 22/120\n",
      "----------\n",
      "Train Loss: 2.2836, Train Acc: 0.3941\n",
      "Test Loss: 2.3645, Test Acc: 0.3864\n",
      "value of counter right now:  1\n",
      "Epoch 23/120\n",
      "----------\n",
      "Train Loss: 2.2634, Train Acc: 0.3984\n",
      "Test Loss: 2.3331, Test Acc: 0.3952\n",
      "Best loss till now 2.3331, saving model\n",
      "valid accuracy for this loss 0.3952, saving model\n",
      "Epoch 24/120\n",
      "----------\n",
      "Train Loss: 2.2162, Train Acc: 0.4055\n",
      "Test Loss: 2.3216, Test Acc: 0.3964\n",
      "Best loss till now 2.3216, saving model\n",
      "valid accuracy for this loss 0.3964, saving model\n",
      "Epoch 25/120\n",
      "----------\n",
      "Train Loss: 2.1877, Train Acc: 0.4188\n",
      "Test Loss: 2.3170, Test Acc: 0.3977\n",
      "Best loss till now 2.3170, saving model\n",
      "valid accuracy for this loss 0.3977, saving model\n",
      "Epoch 26/120\n",
      "----------\n",
      "Train Loss: 2.1567, Train Acc: 0.4193\n",
      "Test Loss: 2.2940, Test Acc: 0.4025\n",
      "Best loss till now 2.2940, saving model\n",
      "valid accuracy for this loss 0.4025, saving model\n",
      "Epoch 27/120\n",
      "----------\n",
      "Train Loss: 2.1436, Train Acc: 0.4203\n",
      "Test Loss: 2.2974, Test Acc: 0.4025\n",
      "value of counter right now:  1\n",
      "Epoch 28/120\n",
      "----------\n",
      "Train Loss: 2.0906, Train Acc: 0.4355\n",
      "Test Loss: 2.2846, Test Acc: 0.4062\n",
      "Best loss till now 2.2846, saving model\n",
      "valid accuracy for this loss 0.4062, saving model\n",
      "Epoch 29/120\n",
      "----------\n",
      "Train Loss: 2.0839, Train Acc: 0.4348\n",
      "Test Loss: 2.2751, Test Acc: 0.4096\n",
      "Best loss till now 2.2751, saving model\n",
      "valid accuracy for this loss 0.4096, saving model\n",
      "Epoch 30/120\n",
      "----------\n",
      "Train Loss: 2.0261, Train Acc: 0.4501\n",
      "Test Loss: 2.2841, Test Acc: 0.4052\n",
      "value of counter right now:  1\n",
      "Epoch 31/120\n",
      "----------\n",
      "Train Loss: 2.0134, Train Acc: 0.4526\n",
      "Test Loss: 2.2880, Test Acc: 0.4088\n",
      "value of counter right now:  2\n",
      "Epoch 32/120\n",
      "----------\n",
      "Train Loss: 1.9797, Train Acc: 0.4619\n",
      "Test Loss: 2.2804, Test Acc: 0.4069\n",
      "value of counter right now:  3\n",
      "Epoch 33/120\n",
      "----------\n",
      "Train Loss: 1.9705, Train Acc: 0.4582\n",
      "Test Loss: 2.2674, Test Acc: 0.4156\n",
      "Best loss till now 2.2674, saving model\n",
      "valid accuracy for this loss 0.4156, saving model\n",
      "Epoch 34/120\n",
      "----------\n",
      "Train Loss: 1.9602, Train Acc: 0.4587\n",
      "Test Loss: 2.2480, Test Acc: 0.4167\n",
      "Best loss till now 2.2480, saving model\n",
      "valid accuracy for this loss 0.4167, saving model\n",
      "Epoch 35/120\n",
      "----------\n",
      "Train Loss: 1.8521, Train Acc: 0.4923\n",
      "Test Loss: 2.2343, Test Acc: 0.4226\n",
      "Best loss till now 2.2343, saving model\n",
      "valid accuracy for this loss 0.4226, saving model\n",
      "Epoch 36/120\n",
      "----------\n",
      "Train Loss: 1.8382, Train Acc: 0.4923\n",
      "Test Loss: 2.2354, Test Acc: 0.4202\n",
      "value of counter right now:  1\n",
      "Epoch 37/120\n",
      "----------\n",
      "Train Loss: 1.8185, Train Acc: 0.4984\n",
      "Test Loss: 2.2318, Test Acc: 0.4238\n",
      "Best loss till now 2.2318, saving model\n",
      "valid accuracy for this loss 0.4238, saving model\n",
      "Epoch 38/120\n",
      "----------\n",
      "Train Loss: 1.8080, Train Acc: 0.4995\n",
      "Test Loss: 2.2313, Test Acc: 0.4234\n",
      "Best loss till now 2.2313, saving model\n",
      "valid accuracy for this loss 0.4234, saving model\n",
      "Epoch 39/120\n",
      "----------\n",
      "Train Loss: 1.8376, Train Acc: 0.4924\n",
      "Test Loss: 2.2299, Test Acc: 0.4240\n",
      "Best loss till now 2.2299, saving model\n",
      "valid accuracy for this loss 0.4240, saving model\n",
      "Epoch 40/120\n",
      "----------\n",
      "Train Loss: 1.8084, Train Acc: 0.4994\n",
      "Test Loss: 2.2296, Test Acc: 0.4258\n",
      "Best loss till now 2.2296, saving model\n",
      "valid accuracy for this loss 0.4258, saving model\n",
      "Epoch 41/120\n",
      "----------\n",
      "Train Loss: 1.7869, Train Acc: 0.5042\n",
      "Test Loss: 2.2275, Test Acc: 0.4270\n",
      "Best loss till now 2.2275, saving model\n",
      "valid accuracy for this loss 0.4270, saving model\n",
      "Epoch 42/120\n",
      "----------\n",
      "Train Loss: 1.7968, Train Acc: 0.5081\n",
      "Test Loss: 2.2236, Test Acc: 0.4253\n",
      "Best loss till now 2.2236, saving model\n",
      "valid accuracy for this loss 0.4253, saving model\n",
      "Epoch 43/120\n",
      "----------\n",
      "Train Loss: 1.7985, Train Acc: 0.5009\n",
      "Test Loss: 2.2294, Test Acc: 0.4272\n",
      "value of counter right now:  1\n",
      "Epoch 44/120\n",
      "----------\n",
      "Train Loss: 1.7835, Train Acc: 0.5075\n",
      "Test Loss: 2.2274, Test Acc: 0.4255\n",
      "value of counter right now:  2\n",
      "Epoch 45/120\n",
      "----------\n",
      "Train Loss: 1.7658, Train Acc: 0.5149\n",
      "Test Loss: 2.2197, Test Acc: 0.4288\n",
      "Best loss till now 2.2197, saving model\n",
      "valid accuracy for this loss 0.4288, saving model\n",
      "Epoch 46/120\n",
      "----------\n",
      "Train Loss: 1.7705, Train Acc: 0.5054\n",
      "Test Loss: 2.2245, Test Acc: 0.4284\n",
      "value of counter right now:  1\n",
      "Epoch 47/120\n",
      "----------\n",
      "Train Loss: 1.7873, Train Acc: 0.5031\n",
      "Test Loss: 2.2204, Test Acc: 0.4253\n",
      "value of counter right now:  2\n",
      "Epoch 48/120\n",
      "----------\n",
      "Train Loss: 1.7878, Train Acc: 0.5045\n",
      "Test Loss: 2.2232, Test Acc: 0.4270\n",
      "value of counter right now:  3\n",
      "Epoch 49/120\n",
      "----------\n",
      "Train Loss: 1.7567, Train Acc: 0.5149\n",
      "Test Loss: 2.2254, Test Acc: 0.4242\n",
      "value of counter right now:  4\n",
      "Epoch 50/120\n",
      "----------\n",
      "Train Loss: 1.7309, Train Acc: 0.5091\n",
      "Test Loss: 2.2233, Test Acc: 0.4267\n",
      "value of counter right now:  5\n",
      "2.2197119106292726\n"
     ]
    },
    {
     "data": {
      "text/plain": [
       "<All keys matched successfully>"
      ]
     },
     "execution_count": 15,
     "metadata": {},
     "output_type": "execute_result"
    }
   ],
   "source": [
    "counter = 0\n",
    "num_epochs = 120\n",
    "best_loss_acc = 0.0\n",
    "best_loss = 50000\n",
    "best_model = copy.deepcopy(model_eff.state_dict())\n",
    "for epoch in range(num_epochs):\n",
    "    print('Epoch {}/{}'.format(epoch+1, num_epochs))\n",
    "    print('-' * 10)\n",
    "    train_epoch_loss, train_epoch_acc = train(model=model_eff, dataloader=sampled_dataloader, criterion=criterion, optimizer=optimizer, dataset_size=len(sampled_dataset), device=device)\n",
    "    print('Train Loss: {:.4f}, Train Acc: {:.4f}'.format(train_epoch_loss, train_epoch_acc))\n",
    "    test_epoch_loss, test_epoch_acc = evaluate(model=model_eff, dataloader=valid_dataloader, criterion=criterion, dataset_size=len(valid_dataset), device=device)\n",
    "    print('Test Loss: {:.4f}, Test Acc: {:.4f}'.format(test_epoch_loss, test_epoch_acc))\n",
    "    scheduler.step()\n",
    "    if test_epoch_loss < best_loss:\n",
    "        counter = 0\n",
    "        best_loss = copy.deepcopy(test_epoch_loss)\n",
    "        best_loss_acc = copy.deepcopy(test_epoch_acc)\n",
    "        print('Best loss till now {:.4f}, saving model'.format(best_loss))\n",
    "        print('valid accuracy for this loss {:.4f}, saving model'.format(best_loss_acc))\n",
    "        best_model = copy.deepcopy(model_eff.state_dict())\n",
    "        \n",
    "    else:\n",
    "        counter = counter + 1\n",
    "        print(\"value of counter right now: \", counter)\n",
    "        if counter >= 5:\n",
    "            break\n",
    "        else:\n",
    "            pass\n",
    "\n",
    "print(best_loss)\n",
    "# Restoring best model\n",
    "model_eff.load_state_dict(best_model)"
   ]
  },
  {
   "cell_type": "code",
   "execution_count": 16,
   "id": "detailed-discipline",
   "metadata": {
    "execution": {
     "iopub.execute_input": "2021-06-30T13:06:59.657863Z",
     "iopub.status.busy": "2021-06-30T13:06:59.657036Z",
     "iopub.status.idle": "2021-06-30T13:06:59.696578Z",
     "shell.execute_reply": "2021-06-30T13:06:59.696000Z"
    },
    "papermill": {
     "duration": 0.107946,
     "end_time": "2021-06-30T13:06:59.696777",
     "exception": false,
     "start_time": "2021-06-30T13:06:59.588831",
     "status": "completed"
    },
    "tags": []
   },
   "outputs": [
    {
     "name": "stdout",
     "output_type": "stream",
     "text": [
      "2.2197119106292726 tensor(0.4288, device='cuda:0', dtype=torch.float64)\n"
     ]
    }
   ],
   "source": [
    "print(best_loss, best_loss_acc)"
   ]
  },
  {
   "cell_type": "code",
   "execution_count": 17,
   "id": "center-crazy",
   "metadata": {
    "execution": {
     "iopub.execute_input": "2021-06-30T13:06:59.823616Z",
     "iopub.status.busy": "2021-06-30T13:06:59.822544Z",
     "iopub.status.idle": "2021-06-30T13:06:59.894119Z",
     "shell.execute_reply": "2021-06-30T13:06:59.893581Z"
    },
    "papermill": {
     "duration": 0.137807,
     "end_time": "2021-06-30T13:06:59.894281",
     "exception": false,
     "start_time": "2021-06-30T13:06:59.756474",
     "status": "completed"
    },
    "tags": []
   },
   "outputs": [],
   "source": [
    "torch.save(model_eff.state_dict(), 'efficientNet_cifar100_8000_samples_scheduler.pth')"
   ]
  },
  {
   "cell_type": "code",
   "execution_count": 18,
   "id": "resistant-country",
   "metadata": {
    "execution": {
     "iopub.execute_input": "2021-06-30T13:07:00.023005Z",
     "iopub.status.busy": "2021-06-30T13:07:00.022089Z",
     "iopub.status.idle": "2021-06-30T13:07:00.026978Z",
     "shell.execute_reply": "2021-06-30T13:07:00.026419Z"
    },
    "papermill": {
     "duration": 0.071275,
     "end_time": "2021-06-30T13:07:00.027124",
     "exception": false,
     "start_time": "2021-06-30T13:06:59.955849",
     "status": "completed"
    },
    "tags": []
   },
   "outputs": [],
   "source": [
    "def calculate_mean_confidence(predictions, labels):\n",
    "    \"\"\"Computes Average Probability, Calibration Error and Accuracy\"\"\"\n",
    "    probabilities = np.max(predictions, 1)\n",
    "    acc = (labels == np.argmax(predictions, 1)).sum()\n",
    "    avg_prob = np.average(probabilities)\n",
    "   \n",
    "    return avg_prob, avg_prob - acc / labels.shape[0], acc / labels.shape[0]"
   ]
  },
  {
   "cell_type": "code",
   "execution_count": 19,
   "id": "retained-comparison",
   "metadata": {
    "execution": {
     "iopub.execute_input": "2021-06-30T13:07:00.163290Z",
     "iopub.status.busy": "2021-06-30T13:07:00.159786Z",
     "iopub.status.idle": "2021-06-30T13:07:26.134666Z",
     "shell.execute_reply": "2021-06-30T13:07:26.135387Z"
    },
    "papermill": {
     "duration": 26.047277,
     "end_time": "2021-06-30T13:07:26.135623",
     "exception": false,
     "start_time": "2021-06-30T13:07:00.088346",
     "status": "completed"
    },
    "tags": []
   },
   "outputs": [
    {
     "name": "stderr",
     "output_type": "stream",
     "text": [
      "100%|██████████| 625/625 [00:25<00:00, 24.07it/s]"
     ]
    },
    {
     "name": "stdout",
     "output_type": "stream",
     "text": [
      "625 625\n",
      "(16, 100) (16,)\n"
     ]
    },
    {
     "name": "stderr",
     "output_type": "stream",
     "text": [
      "\n"
     ]
    }
   ],
   "source": [
    "predictions_eff = []\n",
    "labels_eff = []\n",
    "\n",
    "softmax = nn.Softmax(dim=1)\n",
    "with torch.no_grad():\n",
    "    model_eff = model_eff.eval()\n",
    "    for images, labels in tqdm(valid_dataloader):\n",
    "        images = images.to(device)\n",
    "        labels = labels.to(device)\n",
    "        output = softmax(model_eff(images))\n",
    "        predictions_eff.append(output.cpu().numpy())\n",
    "        labels_eff.append(labels.cpu().numpy())\n",
    "        \n",
    "print(len(labels_eff), len(predictions_eff))\n",
    "print(predictions_eff[0].shape, labels_eff[0].shape)"
   ]
  },
  {
   "cell_type": "code",
   "execution_count": 20,
   "id": "elder-camcorder",
   "metadata": {
    "execution": {
     "iopub.execute_input": "2021-06-30T13:07:26.413866Z",
     "iopub.status.busy": "2021-06-30T13:07:26.411957Z",
     "iopub.status.idle": "2021-06-30T13:07:26.527469Z",
     "shell.execute_reply": "2021-06-30T13:07:26.526899Z"
    },
    "papermill": {
     "duration": 0.257585,
     "end_time": "2021-06-30T13:07:26.527620",
     "exception": false,
     "start_time": "2021-06-30T13:07:26.270035",
     "status": "completed"
    },
    "tags": []
   },
   "outputs": [],
   "source": [
    "predictions_eff_final = predictions_eff[0]\n",
    "labels_eff_final = labels_eff[0]\n",
    "for i in range(1, len(predictions_eff)):\n",
    "    predictions_eff_final = np.concatenate((predictions_eff_final, predictions_eff[i]))\n",
    "    labels_eff_final = np.concatenate((labels_eff_final, labels_eff[i]))"
   ]
  },
  {
   "cell_type": "code",
   "execution_count": 21,
   "id": "polar-reference",
   "metadata": {
    "execution": {
     "iopub.execute_input": "2021-06-30T13:07:26.957617Z",
     "iopub.status.busy": "2021-06-30T13:07:26.956585Z",
     "iopub.status.idle": "2021-06-30T13:07:26.966448Z",
     "shell.execute_reply": "2021-06-30T13:07:26.965537Z"
    },
    "papermill": {
     "duration": 0.244677,
     "end_time": "2021-06-30T13:07:26.966695",
     "exception": false,
     "start_time": "2021-06-30T13:07:26.722018",
     "status": "completed"
    },
    "tags": []
   },
   "outputs": [
    {
     "name": "stdout",
     "output_type": "stream",
     "text": [
      "0.48428574 0.05548574204444884 0.4288\n"
     ]
    }
   ],
   "source": [
    "conf_score, cal_err, acc = calculate_mean_confidence(predictions_eff_final, labels_eff_final)\n",
    "print(conf_score, cal_err, acc)"
   ]
  },
  {
   "cell_type": "code",
   "execution_count": 22,
   "id": "instructional-prophet",
   "metadata": {
    "execution": {
     "iopub.execute_input": "2021-06-30T13:07:27.441635Z",
     "iopub.status.busy": "2021-06-30T13:07:27.440567Z",
     "iopub.status.idle": "2021-06-30T13:07:27.445176Z",
     "shell.execute_reply": "2021-06-30T13:07:27.445910Z"
    },
    "papermill": {
     "duration": 0.254634,
     "end_time": "2021-06-30T13:07:27.446128",
     "exception": false,
     "start_time": "2021-06-30T13:07:27.191494",
     "status": "completed"
    },
    "tags": []
   },
   "outputs": [],
   "source": [
    "# the values with 1e-4 are = e"
   ]
  },
  {
   "cell_type": "code",
   "execution_count": null,
   "id": "guilty-scroll",
   "metadata": {
    "papermill": {
     "duration": 0.221908,
     "end_time": "2021-06-30T13:07:27.892555",
     "exception": false,
     "start_time": "2021-06-30T13:07:27.670647",
     "status": "completed"
    },
    "tags": []
   },
   "outputs": [],
   "source": []
  },
  {
   "cell_type": "code",
   "execution_count": null,
   "id": "significant-belief",
   "metadata": {
    "papermill": {
     "duration": 0.131267,
     "end_time": "2021-06-30T13:07:28.210354",
     "exception": false,
     "start_time": "2021-06-30T13:07:28.079087",
     "status": "completed"
    },
    "tags": []
   },
   "outputs": [],
   "source": []
  }
 ],
 "metadata": {
  "kernelspec": {
   "display_name": "Python 3",
   "language": "python",
   "name": "python3"
  },
  "language_info": {
   "codemirror_mode": {
    "name": "ipython",
    "version": 3
   },
   "file_extension": ".py",
   "mimetype": "text/x-python",
   "name": "python",
   "nbconvert_exporter": "python",
   "pygments_lexer": "ipython3",
   "version": "3.7.10"
  },
  "papermill": {
   "default_parameters": {},
   "duration": 5245.666254,
   "end_time": "2021-06-30T13:07:30.671302",
   "environment_variables": {},
   "exception": null,
   "input_path": "__notebook__.ipynb",
   "output_path": "__notebook__.ipynb",
   "parameters": {},
   "start_time": "2021-06-30T11:40:05.005048",
   "version": "2.3.3"
  },
  "widgets": {
   "application/vnd.jupyter.widget-state+json": {
    "state": {
     "090938378b314eb388e636b598018181": {
      "model_module": "@jupyter-widgets/controls",
      "model_module_version": "1.5.0",
      "model_name": "HTMLModel",
      "state": {
       "_dom_classes": [],
       "_model_module": "@jupyter-widgets/controls",
       "_model_module_version": "1.5.0",
       "_model_name": "HTMLModel",
       "_view_count": null,
       "_view_module": "@jupyter-widgets/controls",
       "_view_module_version": "1.5.0",
       "_view_name": "HTMLView",
       "description": "",
       "description_tooltip": null,
       "layout": "IPY_MODEL_3c286aa9d0e34e2b8f6b059f89b9a15d",
       "placeholder": "​",
       "style": "IPY_MODEL_d0bcffba836445c089a5064f17ead01d",
       "value": "100%"
      }
     },
     "162e69ec2a424be68faca34eac0e8d95": {
      "model_module": "@jupyter-widgets/controls",
      "model_module_version": "1.5.0",
      "model_name": "HBoxModel",
      "state": {
       "_dom_classes": [],
       "_model_module": "@jupyter-widgets/controls",
       "_model_module_version": "1.5.0",
       "_model_name": "HBoxModel",
       "_view_count": null,
       "_view_module": "@jupyter-widgets/controls",
       "_view_module_version": "1.5.0",
       "_view_name": "HBoxView",
       "box_style": "",
       "children": [
        "IPY_MODEL_090938378b314eb388e636b598018181",
        "IPY_MODEL_f90ebcaca4ac4188aa8bc32be75fabe2",
        "IPY_MODEL_cc33d00086f14aa38e5046dac3f2b626"
       ],
       "layout": "IPY_MODEL_325287fa15874748b1c0ac3a2c1e01de"
      }
     },
     "325287fa15874748b1c0ac3a2c1e01de": {
      "model_module": "@jupyter-widgets/base",
      "model_module_version": "1.2.0",
      "model_name": "LayoutModel",
      "state": {
       "_model_module": "@jupyter-widgets/base",
       "_model_module_version": "1.2.0",
       "_model_name": "LayoutModel",
       "_view_count": null,
       "_view_module": "@jupyter-widgets/base",
       "_view_module_version": "1.2.0",
       "_view_name": "LayoutView",
       "align_content": null,
       "align_items": null,
       "align_self": null,
       "border": null,
       "bottom": null,
       "display": null,
       "flex": null,
       "flex_flow": null,
       "grid_area": null,
       "grid_auto_columns": null,
       "grid_auto_flow": null,
       "grid_auto_rows": null,
       "grid_column": null,
       "grid_gap": null,
       "grid_row": null,
       "grid_template_areas": null,
       "grid_template_columns": null,
       "grid_template_rows": null,
       "height": null,
       "justify_content": null,
       "justify_items": null,
       "left": null,
       "margin": null,
       "max_height": null,
       "max_width": null,
       "min_height": null,
       "min_width": null,
       "object_fit": null,
       "object_position": null,
       "order": null,
       "overflow": null,
       "overflow_x": null,
       "overflow_y": null,
       "padding": null,
       "right": null,
       "top": null,
       "visibility": null,
       "width": null
      }
     },
     "3a5d75fd20794f848f450206102179a0": {
      "model_module": "@jupyter-widgets/controls",
      "model_module_version": "1.5.0",
      "model_name": "DescriptionStyleModel",
      "state": {
       "_model_module": "@jupyter-widgets/controls",
       "_model_module_version": "1.5.0",
       "_model_name": "DescriptionStyleModel",
       "_view_count": null,
       "_view_module": "@jupyter-widgets/base",
       "_view_module_version": "1.2.0",
       "_view_name": "StyleView",
       "description_width": ""
      }
     },
     "3c286aa9d0e34e2b8f6b059f89b9a15d": {
      "model_module": "@jupyter-widgets/base",
      "model_module_version": "1.2.0",
      "model_name": "LayoutModel",
      "state": {
       "_model_module": "@jupyter-widgets/base",
       "_model_module_version": "1.2.0",
       "_model_name": "LayoutModel",
       "_view_count": null,
       "_view_module": "@jupyter-widgets/base",
       "_view_module_version": "1.2.0",
       "_view_name": "LayoutView",
       "align_content": null,
       "align_items": null,
       "align_self": null,
       "border": null,
       "bottom": null,
       "display": null,
       "flex": null,
       "flex_flow": null,
       "grid_area": null,
       "grid_auto_columns": null,
       "grid_auto_flow": null,
       "grid_auto_rows": null,
       "grid_column": null,
       "grid_gap": null,
       "grid_row": null,
       "grid_template_areas": null,
       "grid_template_columns": null,
       "grid_template_rows": null,
       "height": null,
       "justify_content": null,
       "justify_items": null,
       "left": null,
       "margin": null,
       "max_height": null,
       "max_width": null,
       "min_height": null,
       "min_width": null,
       "object_fit": null,
       "object_position": null,
       "order": null,
       "overflow": null,
       "overflow_x": null,
       "overflow_y": null,
       "padding": null,
       "right": null,
       "top": null,
       "visibility": null,
       "width": null
      }
     },
     "4491ceb7adf4451ea5086d9b03915a7c": {
      "model_module": "@jupyter-widgets/base",
      "model_module_version": "1.2.0",
      "model_name": "LayoutModel",
      "state": {
       "_model_module": "@jupyter-widgets/base",
       "_model_module_version": "1.2.0",
       "_model_name": "LayoutModel",
       "_view_count": null,
       "_view_module": "@jupyter-widgets/base",
       "_view_module_version": "1.2.0",
       "_view_name": "LayoutView",
       "align_content": null,
       "align_items": null,
       "align_self": null,
       "border": null,
       "bottom": null,
       "display": null,
       "flex": null,
       "flex_flow": null,
       "grid_area": null,
       "grid_auto_columns": null,
       "grid_auto_flow": null,
       "grid_auto_rows": null,
       "grid_column": null,
       "grid_gap": null,
       "grid_row": null,
       "grid_template_areas": null,
       "grid_template_columns": null,
       "grid_template_rows": null,
       "height": null,
       "justify_content": null,
       "justify_items": null,
       "left": null,
       "margin": null,
       "max_height": null,
       "max_width": null,
       "min_height": null,
       "min_width": null,
       "object_fit": null,
       "object_position": null,
       "order": null,
       "overflow": null,
       "overflow_x": null,
       "overflow_y": null,
       "padding": null,
       "right": null,
       "top": null,
       "visibility": null,
       "width": null
      }
     },
     "69a573f9d65c414c9ef5ae6dfbf353c5": {
      "model_module": "@jupyter-widgets/controls",
      "model_module_version": "1.5.0",
      "model_name": "ProgressStyleModel",
      "state": {
       "_model_module": "@jupyter-widgets/controls",
       "_model_module_version": "1.5.0",
       "_model_name": "ProgressStyleModel",
       "_view_count": null,
       "_view_module": "@jupyter-widgets/base",
       "_view_module_version": "1.2.0",
       "_view_name": "StyleView",
       "bar_color": null,
       "description_width": ""
      }
     },
     "7d90974eae244f03bfb89952e90fb5a5": {
      "model_module": "@jupyter-widgets/base",
      "model_module_version": "1.2.0",
      "model_name": "LayoutModel",
      "state": {
       "_model_module": "@jupyter-widgets/base",
       "_model_module_version": "1.2.0",
       "_model_name": "LayoutModel",
       "_view_count": null,
       "_view_module": "@jupyter-widgets/base",
       "_view_module_version": "1.2.0",
       "_view_name": "LayoutView",
       "align_content": null,
       "align_items": null,
       "align_self": null,
       "border": null,
       "bottom": null,
       "display": null,
       "flex": null,
       "flex_flow": null,
       "grid_area": null,
       "grid_auto_columns": null,
       "grid_auto_flow": null,
       "grid_auto_rows": null,
       "grid_column": null,
       "grid_gap": null,
       "grid_row": null,
       "grid_template_areas": null,
       "grid_template_columns": null,
       "grid_template_rows": null,
       "height": null,
       "justify_content": null,
       "justify_items": null,
       "left": null,
       "margin": null,
       "max_height": null,
       "max_width": null,
       "min_height": null,
       "min_width": null,
       "object_fit": null,
       "object_position": null,
       "order": null,
       "overflow": null,
       "overflow_x": null,
       "overflow_y": null,
       "padding": null,
       "right": null,
       "top": null,
       "visibility": null,
       "width": null
      }
     },
     "cc33d00086f14aa38e5046dac3f2b626": {
      "model_module": "@jupyter-widgets/controls",
      "model_module_version": "1.5.0",
      "model_name": "HTMLModel",
      "state": {
       "_dom_classes": [],
       "_model_module": "@jupyter-widgets/controls",
       "_model_module_version": "1.5.0",
       "_model_name": "HTMLModel",
       "_view_count": null,
       "_view_module": "@jupyter-widgets/controls",
       "_view_module_version": "1.5.0",
       "_view_name": "HTMLView",
       "description": "",
       "description_tooltip": null,
       "layout": "IPY_MODEL_4491ceb7adf4451ea5086d9b03915a7c",
       "placeholder": "​",
       "style": "IPY_MODEL_3a5d75fd20794f848f450206102179a0",
       "value": " 20.4M/20.4M [00:00&lt;00:00, 58.7MB/s]"
      }
     },
     "d0bcffba836445c089a5064f17ead01d": {
      "model_module": "@jupyter-widgets/controls",
      "model_module_version": "1.5.0",
      "model_name": "DescriptionStyleModel",
      "state": {
       "_model_module": "@jupyter-widgets/controls",
       "_model_module_version": "1.5.0",
       "_model_name": "DescriptionStyleModel",
       "_view_count": null,
       "_view_module": "@jupyter-widgets/base",
       "_view_module_version": "1.2.0",
       "_view_name": "StyleView",
       "description_width": ""
      }
     },
     "f90ebcaca4ac4188aa8bc32be75fabe2": {
      "model_module": "@jupyter-widgets/controls",
      "model_module_version": "1.5.0",
      "model_name": "FloatProgressModel",
      "state": {
       "_dom_classes": [],
       "_model_module": "@jupyter-widgets/controls",
       "_model_module_version": "1.5.0",
       "_model_name": "FloatProgressModel",
       "_view_count": null,
       "_view_module": "@jupyter-widgets/controls",
       "_view_module_version": "1.5.0",
       "_view_name": "ProgressView",
       "bar_style": "success",
       "description": "",
       "description_tooltip": null,
       "layout": "IPY_MODEL_7d90974eae244f03bfb89952e90fb5a5",
       "max": 21388428.0,
       "min": 0.0,
       "orientation": "horizontal",
       "style": "IPY_MODEL_69a573f9d65c414c9ef5ae6dfbf353c5",
       "value": 21388428.0
      }
     }
    },
    "version_major": 2,
    "version_minor": 0
   }
  }
 },
 "nbformat": 4,
 "nbformat_minor": 5
}
