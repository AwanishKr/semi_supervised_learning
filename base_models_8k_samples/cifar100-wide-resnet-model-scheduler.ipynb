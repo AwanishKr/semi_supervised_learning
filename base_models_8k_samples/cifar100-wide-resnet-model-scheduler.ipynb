{
 "cells": [
  {
   "cell_type": "code",
   "execution_count": 1,
   "id": "black-effect",
   "metadata": {
    "_cell_guid": "b1076dfc-b9ad-4769-8c92-a6c4dae69d19",
    "_uuid": "8f2839f25d086af736a60e9eeb907d3b93b6e0e5",
    "execution": {
     "iopub.execute_input": "2021-06-30T14:20:56.337050Z",
     "iopub.status.busy": "2021-06-30T14:20:56.336533Z",
     "iopub.status.idle": "2021-06-30T14:21:04.711135Z",
     "shell.execute_reply": "2021-06-30T14:21:04.710540Z"
    },
    "papermill": {
     "duration": 8.3985,
     "end_time": "2021-06-30T14:21:04.711310",
     "exception": false,
     "start_time": "2021-06-30T14:20:56.312810",
     "status": "completed"
    },
    "tags": []
   },
   "outputs": [
    {
     "name": "stdout",
     "output_type": "stream",
     "text": [
      "Collecting efficientnet_pytorch\r\n",
      "  Downloading efficientnet_pytorch-0.7.1.tar.gz (21 kB)\r\n",
      "Requirement already satisfied: torch in /opt/conda/lib/python3.7/site-packages (from efficientnet_pytorch) (1.7.0)\r\n",
      "Requirement already satisfied: future in /opt/conda/lib/python3.7/site-packages (from torch->efficientnet_pytorch) (0.18.2)\r\n",
      "Requirement already satisfied: typing_extensions in /opt/conda/lib/python3.7/site-packages (from torch->efficientnet_pytorch) (3.7.4.3)\r\n",
      "Requirement already satisfied: dataclasses in /opt/conda/lib/python3.7/site-packages (from torch->efficientnet_pytorch) (0.6)\r\n",
      "Requirement already satisfied: numpy in /opt/conda/lib/python3.7/site-packages (from torch->efficientnet_pytorch) (1.19.5)\r\n",
      "Building wheels for collected packages: efficientnet-pytorch\r\n",
      "  Building wheel for efficientnet-pytorch (setup.py) ... \u001b[?25l-\b \b\\\b \bdone\r\n",
      "\u001b[?25h  Created wheel for efficientnet-pytorch: filename=efficientnet_pytorch-0.7.1-py3-none-any.whl size=16446 sha256=6c0a4e0543116d4225220cf27abf4bc124155570d214b6d1daddabbdfc1f7208\r\n",
      "  Stored in directory: /root/.cache/pip/wheels/0e/cc/b2/49e74588263573ff778da58cc99b9c6349b496636a7e165be6\r\n",
      "Successfully built efficientnet-pytorch\r\n",
      "Installing collected packages: efficientnet-pytorch\r\n",
      "Successfully installed efficientnet-pytorch-0.7.1\r\n"
     ]
    }
   ],
   "source": [
    "!pip install efficientnet_pytorch"
   ]
  },
  {
   "cell_type": "code",
   "execution_count": 2,
   "id": "indie-output",
   "metadata": {
    "execution": {
     "iopub.execute_input": "2021-06-30T14:21:04.749684Z",
     "iopub.status.busy": "2021-06-30T14:21:04.748934Z",
     "iopub.status.idle": "2021-06-30T14:21:06.581947Z",
     "shell.execute_reply": "2021-06-30T14:21:06.581017Z"
    },
    "papermill": {
     "duration": 1.854243,
     "end_time": "2021-06-30T14:21:06.582090",
     "exception": false,
     "start_time": "2021-06-30T14:21:04.727847",
     "status": "completed"
    },
    "tags": []
   },
   "outputs": [],
   "source": [
    "import os\n",
    "import time\n",
    "import copy\n",
    "import pickle\n",
    "import random\n",
    "import numpy as np\n",
    "import pandas as pd\n",
    "\n",
    "import itertools\n",
    "from PIL import Image\n",
    "from tqdm import tqdm\n",
    "from scipy.stats import entropy\n",
    "\n",
    "import torch\n",
    "import torch.nn as nn\n",
    "import torch.optim as optim\n",
    "from torch.optim.lr_scheduler import MultiStepLR\n",
    "\n",
    "import torchvision\n",
    "import torchvision.transforms as transforms\n",
    "from efficientnet_pytorch import EfficientNet\n",
    "\n",
    "from torch.utils.data import Dataset, DataLoader, Subset\n",
    "random.seed(100)"
   ]
  },
  {
   "cell_type": "code",
   "execution_count": 3,
   "id": "novel-venue",
   "metadata": {
    "execution": {
     "iopub.execute_input": "2021-06-30T14:21:06.620045Z",
     "iopub.status.busy": "2021-06-30T14:21:06.618687Z",
     "iopub.status.idle": "2021-06-30T14:21:06.620888Z",
     "shell.execute_reply": "2021-06-30T14:21:06.621305Z"
    },
    "papermill": {
     "duration": 0.023711,
     "end_time": "2021-06-30T14:21:06.621428",
     "exception": false,
     "start_time": "2021-06-30T14:21:06.597717",
     "status": "completed"
    },
    "tags": []
   },
   "outputs": [],
   "source": [
    "batch_size = 16\n",
    "train_transforms = transforms.Compose([\n",
    "        transforms.RandomHorizontalFlip(p=0.25),\n",
    "        transforms.RandomVerticalFlip(p=0.25),\n",
    "        transforms.RandomAffine(degrees=20, translate=(0.25, 0.25), shear=(-0.25, 0.25)),\n",
    "        transforms.ToTensor(),\n",
    "        transforms.Normalize((0.5, 0.5, 0.5), (0.5, 0.5, 0.5))\n",
    "])\n",
    "\n",
    "\n",
    "test_transforms = transforms.Compose([\n",
    "        transforms.ToTensor(),\n",
    "        transforms.Normalize((0.5, 0.5, 0.5), (0.5, 0.5, 0.5))\n",
    "\n",
    "])"
   ]
  },
  {
   "cell_type": "code",
   "execution_count": 4,
   "id": "accepting-stick",
   "metadata": {
    "execution": {
     "iopub.execute_input": "2021-06-30T14:21:06.655956Z",
     "iopub.status.busy": "2021-06-30T14:21:06.655462Z",
     "iopub.status.idle": "2021-06-30T14:21:06.658806Z",
     "shell.execute_reply": "2021-06-30T14:21:06.659178Z"
    },
    "papermill": {
     "duration": 0.022584,
     "end_time": "2021-06-30T14:21:06.659308",
     "exception": false,
     "start_time": "2021-06-30T14:21:06.636724",
     "status": "completed"
    },
    "tags": []
   },
   "outputs": [],
   "source": [
    "def unpickle(file):\n",
    "    with open(file, 'rb') as fo:\n",
    "        dictt = pickle.load(fo, encoding='latin1')\n",
    "    return dictt"
   ]
  },
  {
   "cell_type": "code",
   "execution_count": 5,
   "id": "cathedral-minimum",
   "metadata": {
    "execution": {
     "iopub.execute_input": "2021-06-30T14:21:06.694047Z",
     "iopub.status.busy": "2021-06-30T14:21:06.693566Z",
     "iopub.status.idle": "2021-06-30T14:21:10.492291Z",
     "shell.execute_reply": "2021-06-30T14:21:10.493238Z"
    },
    "papermill": {
     "duration": 3.818816,
     "end_time": "2021-06-30T14:21:10.493495",
     "exception": false,
     "start_time": "2021-06-30T14:21:06.674679",
     "status": "completed"
    },
    "tags": []
   },
   "outputs": [],
   "source": [
    "# Read dictionary\n",
    "data_train = unpickle(\"../input/cifar100/train\")\n",
    "data_test = unpickle(\"../input/cifar100/test\")\n",
    "data_meta = unpickle(\"../input/cifar100/meta\")\n",
    "\n",
    "subCategory = pd.DataFrame(data_meta['fine_label_names'], columns=['SubClass'])\n",
    "subCategoryDict = subCategory.to_dict()"
   ]
  },
  {
   "cell_type": "code",
   "execution_count": 6,
   "id": "automatic-detector",
   "metadata": {
    "execution": {
     "iopub.execute_input": "2021-06-30T14:21:10.567220Z",
     "iopub.status.busy": "2021-06-30T14:21:10.566166Z",
     "iopub.status.idle": "2021-06-30T14:21:10.575435Z",
     "shell.execute_reply": "2021-06-30T14:21:10.576346Z"
    },
    "papermill": {
     "duration": 0.051304,
     "end_time": "2021-06-30T14:21:10.576826",
     "exception": false,
     "start_time": "2021-06-30T14:21:10.525522",
     "status": "completed"
    },
    "tags": []
   },
   "outputs": [
    {
     "name": "stdout",
     "output_type": "stream",
     "text": [
      "(10000, 3072) (10000, 3072)\n",
      "<class 'numpy.ndarray'> <class 'list'>\n"
     ]
    }
   ],
   "source": [
    "# only use 10000 labelled samples\n",
    "x_train, y_train = data_train['data'][0:10000], data_train['fine_labels'][0:10000]\n",
    "x_valid, y_valid = data_test['data'], data_test['fine_labels']\n",
    "print(x_train.shape, x_valid.shape)\n",
    "print(type(x_train), type(y_train))"
   ]
  },
  {
   "cell_type": "code",
   "execution_count": 7,
   "id": "rough-access",
   "metadata": {
    "execution": {
     "iopub.execute_input": "2021-06-30T14:21:10.648031Z",
     "iopub.status.busy": "2021-06-30T14:21:10.647532Z",
     "iopub.status.idle": "2021-06-30T14:21:10.653398Z",
     "shell.execute_reply": "2021-06-30T14:21:10.654414Z"
    },
    "papermill": {
     "duration": 0.047775,
     "end_time": "2021-06-30T14:21:10.654595",
     "exception": false,
     "start_time": "2021-06-30T14:21:10.606820",
     "status": "completed"
    },
    "tags": []
   },
   "outputs": [
    {
     "name": "stdout",
     "output_type": "stream",
     "text": [
      "<class 'numpy.ndarray'> <class 'numpy.ndarray'> <class 'numpy.ndarray'> <class 'numpy.ndarray'>\n",
      "(10000,) (10000,)\n",
      "99 99\n"
     ]
    }
   ],
   "source": [
    "# .transpose(0,2,3,1)\n",
    "\n",
    "x_train = x_train.reshape(len(x_train),3,32,32)\n",
    "x_valid = x_valid.reshape(len(x_valid),3,32,32)\n",
    "\n",
    "x_train, y_train = np.asarray(x_train), np.asarray(y_train)\n",
    "x_valid, y_valid = np.asarray(x_valid), np.asarray(y_valid)\n",
    "\n",
    "print(type(x_train), type(y_train), type(x_valid), type(y_valid))\n",
    "print(y_train.shape, y_valid.shape)\n",
    "print(np.max(y_train), np.max(y_valid))"
   ]
  },
  {
   "cell_type": "code",
   "execution_count": 8,
   "id": "acceptable-chorus",
   "metadata": {
    "execution": {
     "iopub.execute_input": "2021-06-30T14:21:10.720844Z",
     "iopub.status.busy": "2021-06-30T14:21:10.719787Z",
     "iopub.status.idle": "2021-06-30T14:21:10.724076Z",
     "shell.execute_reply": "2021-06-30T14:21:10.724849Z"
    },
    "papermill": {
     "duration": 0.041625,
     "end_time": "2021-06-30T14:21:10.725033",
     "exception": false,
     "start_time": "2021-06-30T14:21:10.683408",
     "status": "completed"
    },
    "tags": []
   },
   "outputs": [],
   "source": [
    "class MyDataset(Dataset):\n",
    "    def __init__(self, data, targets, transform=None):\n",
    "        self.data = data\n",
    "        self.targets = torch.LongTensor(targets)\n",
    "        self.transform = transform\n",
    "\n",
    "    def __getitem__(self, index):\n",
    "        x = self.data[index]\n",
    "        y = self.targets[index]\n",
    "        if self.transform:\n",
    "            x = Image.fromarray(self.data[index].astype(np.uint8).transpose(1,2,0))\n",
    "            x = self.transform(x)\n",
    "        return x, y\n",
    "\n",
    "    def __len__(self):\n",
    "        return len(self.data)"
   ]
  },
  {
   "cell_type": "code",
   "execution_count": 9,
   "id": "expanded-skating",
   "metadata": {
    "execution": {
     "iopub.execute_input": "2021-06-30T14:21:10.804532Z",
     "iopub.status.busy": "2021-06-30T14:21:10.801063Z",
     "iopub.status.idle": "2021-06-30T14:21:10.809001Z",
     "shell.execute_reply": "2021-06-30T14:21:10.810032Z"
    },
    "papermill": {
     "duration": 0.053315,
     "end_time": "2021-06-30T14:21:10.810298",
     "exception": false,
     "start_time": "2021-06-30T14:21:10.756983",
     "status": "completed"
    },
    "tags": []
   },
   "outputs": [
    {
     "name": "stdout",
     "output_type": "stream",
     "text": [
      "10000 10000\n",
      "625 625\n"
     ]
    }
   ],
   "source": [
    "train_dataset = MyDataset(x_train, y_train, transform=train_transforms)\n",
    "valid_dataset = MyDataset(x_valid, y_valid, transform=test_transforms)\n",
    "\n",
    "train_dataloader = DataLoader(train_dataset, batch_size=batch_size, shuffle=True, num_workers=4, drop_last=True)\n",
    "valid_dataloader = DataLoader(valid_dataset, batch_size=batch_size, num_workers=4)\n",
    "\n",
    "dataloaders = {'train': train_dataloader, 'val':valid_dataloader}\n",
    "dataset_sizes = {'train': len(train_dataset), 'val':len(valid_dataset)}\n",
    "\n",
    "print(dataset_sizes['train'], dataset_sizes['val'])\n",
    "print(len(train_dataloader), len(valid_dataloader))"
   ]
  },
  {
   "cell_type": "code",
   "execution_count": 10,
   "id": "solved-socket",
   "metadata": {
    "execution": {
     "iopub.execute_input": "2021-06-30T14:21:10.881161Z",
     "iopub.status.busy": "2021-06-30T14:21:10.880401Z",
     "iopub.status.idle": "2021-06-30T14:21:10.883775Z",
     "shell.execute_reply": "2021-06-30T14:21:10.884355Z"
    },
    "papermill": {
     "duration": 0.042771,
     "end_time": "2021-06-30T14:21:10.884540",
     "exception": false,
     "start_time": "2021-06-30T14:21:10.841769",
     "status": "completed"
    },
    "tags": []
   },
   "outputs": [],
   "source": [
    "def train(model, dataloader, optimizer, criterion, dataset_size, device):\n",
    "    model = model.train()\n",
    "    running_loss = 0\n",
    "    running_corrects = 0\n",
    "    for inputs, labels in dataloader:\n",
    "        inputs = inputs.to(device)\n",
    "        labels = labels.to(device)\n",
    "        optimizer.zero_grad()\n",
    "        outputs = model(inputs)\n",
    "        _, preds = torch.max(outputs, 1)\n",
    "        loss = criterion(outputs, labels)\n",
    "        loss.backward()\n",
    "        optimizer.step()\n",
    "        running_loss += loss.item() * inputs.size(0)\n",
    "        running_corrects += torch.sum(preds == labels.data)  \n",
    "    return running_loss / dataset_size, running_corrects.double() / dataset_size"
   ]
  },
  {
   "cell_type": "code",
   "execution_count": 11,
   "id": "peripheral-mobility",
   "metadata": {
    "execution": {
     "iopub.execute_input": "2021-06-30T14:21:10.954471Z",
     "iopub.status.busy": "2021-06-30T14:21:10.952014Z",
     "iopub.status.idle": "2021-06-30T14:21:10.955418Z",
     "shell.execute_reply": "2021-06-30T14:21:10.956060Z"
    },
    "papermill": {
     "duration": 0.041682,
     "end_time": "2021-06-30T14:21:10.956247",
     "exception": false,
     "start_time": "2021-06-30T14:21:10.914565",
     "status": "completed"
    },
    "tags": []
   },
   "outputs": [],
   "source": [
    "def evaluate(model, dataloader, criterion, dataset_size, device):\n",
    "    running_corrects = 0\n",
    "    running_loss = 0\n",
    "    model = model.eval()\n",
    "    with torch.no_grad():\n",
    "        for inputs, labels in dataloader:\n",
    "            inputs = inputs.to(device)\n",
    "            labels = labels.to(device)\n",
    "            outputs = model(inputs)\n",
    "            _, preds = torch.max(outputs, 1)\n",
    "            loss = criterion(outputs, labels)\n",
    "            running_loss += loss.item() * inputs.size(0)\n",
    "            running_corrects += torch.sum(preds == labels.data)  \n",
    "    return running_loss / dataset_size, running_corrects.double() / dataset_size"
   ]
  },
  {
   "cell_type": "code",
   "execution_count": 12,
   "id": "pressing-motivation",
   "metadata": {
    "execution": {
     "iopub.execute_input": "2021-06-30T14:21:11.025008Z",
     "iopub.status.busy": "2021-06-30T14:21:11.024219Z",
     "iopub.status.idle": "2021-06-30T14:21:11.038403Z",
     "shell.execute_reply": "2021-06-30T14:21:11.038984Z"
    },
    "papermill": {
     "duration": 0.053236,
     "end_time": "2021-06-30T14:21:11.039145",
     "exception": false,
     "start_time": "2021-06-30T14:21:10.985909",
     "status": "completed"
    },
    "tags": []
   },
   "outputs": [
    {
     "name": "stdout",
     "output_type": "stream",
     "text": [
      "8000\n"
     ]
    }
   ],
   "source": [
    "# train all three models on this sampled_dataset \n",
    "# N is number of samples\n",
    "# this subset is for wide-resnet\n",
    "\n",
    "N = 8000\n",
    "random_idx = random.sample(range(0, 10000), N)\n",
    "sampled_dataset = Subset(train_dataset, random_idx)\n",
    "sampled_dataloader = DataLoader(sampled_dataset, batch_size=batch_size, shuffle=True, num_workers=4, drop_last=True)\n",
    "\n",
    "print(len(sampled_dataset))"
   ]
  },
  {
   "cell_type": "code",
   "execution_count": 13,
   "id": "aware-denver",
   "metadata": {
    "execution": {
     "iopub.execute_input": "2021-06-30T14:21:11.079780Z",
     "iopub.status.busy": "2021-06-30T14:21:11.079259Z",
     "iopub.status.idle": "2021-06-30T14:21:11.083220Z",
     "shell.execute_reply": "2021-06-30T14:21:11.082812Z"
    },
    "papermill": {
     "duration": 0.026066,
     "end_time": "2021-06-30T14:21:11.083341",
     "exception": false,
     "start_time": "2021-06-30T14:21:11.057275",
     "status": "completed"
    },
    "tags": []
   },
   "outputs": [],
   "source": [
    "class WideResNet(nn.Module):\n",
    "    def __init__(self):\n",
    "        super().__init__()\n",
    "        self.base_model = torchvision.models.wide_resnet50_2(pretrained=True)\n",
    "        self.linear = nn.Linear(in_features=self.base_model.fc.in_features, out_features=100)\n",
    "        self.base_model.fc = self.linear\n",
    "        \n",
    "    def forward(self, x): \n",
    "        x = self.base_model(x)\n",
    "        return x"
   ]
  },
  {
   "cell_type": "code",
   "execution_count": 14,
   "id": "eight-nickname",
   "metadata": {
    "execution": {
     "iopub.execute_input": "2021-06-30T14:21:11.134801Z",
     "iopub.status.busy": "2021-06-30T14:21:11.134181Z",
     "iopub.status.idle": "2021-06-30T14:21:26.669319Z",
     "shell.execute_reply": "2021-06-30T14:21:26.668798Z"
    },
    "papermill": {
     "duration": 15.568671,
     "end_time": "2021-06-30T14:21:26.669452",
     "exception": false,
     "start_time": "2021-06-30T14:21:11.100781",
     "status": "completed"
    },
    "tags": []
   },
   "outputs": [
    {
     "name": "stderr",
     "output_type": "stream",
     "text": [
      "Downloading: \"https://download.pytorch.org/models/wide_resnet50_2-95faca4d.pth\" to /root/.cache/torch/hub/checkpoints/wide_resnet50_2-95faca4d.pth\n"
     ]
    },
    {
     "data": {
      "application/vnd.jupyter.widget-view+json": {
       "model_id": "287db084045443beaf7654760eb95cf7",
       "version_major": 2,
       "version_minor": 0
      },
      "text/plain": [
       "  0%|          | 0.00/132M [00:00<?, ?B/s]"
      ]
     },
     "metadata": {},
     "output_type": "display_data"
    }
   ],
   "source": [
    "model_wide = WideResNet()\n",
    "device = torch.device(\"cuda:0\" if torch.cuda.is_available() else \"cpu\")\n",
    "model_wide = model_wide.to(device)\n",
    "optimizer = optim.Adam(model_wide.parameters(), lr=0.0001)\n",
    "scheduler = MultiStepLR(optimizer, milestones=[10], gamma=0.1)\n",
    "criterion = nn.CrossEntropyLoss()"
   ]
  },
  {
   "cell_type": "code",
   "execution_count": 15,
   "id": "solved-jenny",
   "metadata": {
    "execution": {
     "iopub.execute_input": "2021-06-30T14:21:26.717501Z",
     "iopub.status.busy": "2021-06-30T14:21:26.716737Z",
     "iopub.status.idle": "2021-06-30T14:59:54.440546Z",
     "shell.execute_reply": "2021-06-30T14:59:54.440977Z"
    },
    "papermill": {
     "duration": 2307.751987,
     "end_time": "2021-06-30T14:59:54.441152",
     "exception": false,
     "start_time": "2021-06-30T14:21:26.689165",
     "status": "completed"
    },
    "tags": []
   },
   "outputs": [
    {
     "name": "stdout",
     "output_type": "stream",
     "text": [
      "Epoch 1/120\n",
      "----------\n",
      "Train Loss: 4.3667, Train Acc: 0.0566\n",
      "Test Loss: 3.9203, Test Acc: 0.1208\n",
      "Best loss till now 3.9203, saving model\n",
      "valid accuracy for this loss 0.1208, saving model\n",
      "Epoch 2/120\n",
      "----------\n",
      "Train Loss: 3.8745, Train Acc: 0.1096\n",
      "Test Loss: 3.5267, Test Acc: 0.1797\n",
      "Best loss till now 3.5267, saving model\n",
      "valid accuracy for this loss 0.1797, saving model\n",
      "Epoch 3/120\n",
      "----------\n",
      "Train Loss: 3.5515, Train Acc: 0.1551\n",
      "Test Loss: 3.1792, Test Acc: 0.2356\n",
      "Best loss till now 3.1792, saving model\n",
      "valid accuracy for this loss 0.2356, saving model\n",
      "Epoch 4/120\n",
      "----------\n",
      "Train Loss: 3.3433, Train Acc: 0.1915\n",
      "Test Loss: 3.0880, Test Acc: 0.2595\n",
      "Best loss till now 3.0880, saving model\n",
      "valid accuracy for this loss 0.2595, saving model\n",
      "Epoch 5/120\n",
      "----------\n",
      "Train Loss: 3.1895, Train Acc: 0.2225\n",
      "Test Loss: 2.9480, Test Acc: 0.2992\n",
      "Best loss till now 2.9480, saving model\n",
      "valid accuracy for this loss 0.2992, saving model\n",
      "Epoch 6/120\n",
      "----------\n",
      "Train Loss: 3.0865, Train Acc: 0.2401\n",
      "Test Loss: 2.9189, Test Acc: 0.3054\n",
      "Best loss till now 2.9189, saving model\n",
      "valid accuracy for this loss 0.3054, saving model\n",
      "Epoch 7/120\n",
      "----------\n",
      "Train Loss: 2.9965, Train Acc: 0.2562\n",
      "Test Loss: 2.8848, Test Acc: 0.3219\n",
      "Best loss till now 2.8848, saving model\n",
      "valid accuracy for this loss 0.3219, saving model\n",
      "Epoch 8/120\n",
      "----------\n",
      "Train Loss: 2.8918, Train Acc: 0.2697\n",
      "Test Loss: 2.9420, Test Acc: 0.3154\n",
      "value of counter right now:  1\n",
      "Epoch 9/120\n",
      "----------\n",
      "Train Loss: 2.8181, Train Acc: 0.2888\n",
      "Test Loss: 2.9034, Test Acc: 0.3315\n",
      "value of counter right now:  2\n",
      "Epoch 10/120\n",
      "----------\n",
      "Train Loss: 2.7490, Train Acc: 0.2990\n",
      "Test Loss: 2.7066, Test Acc: 0.3550\n",
      "Best loss till now 2.7066, saving model\n",
      "valid accuracy for this loss 0.3550, saving model\n",
      "Epoch 11/120\n",
      "----------\n",
      "Train Loss: 2.4809, Train Acc: 0.3530\n",
      "Test Loss: 2.5627, Test Acc: 0.3790\n",
      "Best loss till now 2.5627, saving model\n",
      "valid accuracy for this loss 0.3790, saving model\n",
      "Epoch 12/120\n",
      "----------\n",
      "Train Loss: 2.3785, Train Acc: 0.3810\n",
      "Test Loss: 2.5004, Test Acc: 0.3917\n",
      "Best loss till now 2.5004, saving model\n",
      "valid accuracy for this loss 0.3917, saving model\n",
      "Epoch 13/120\n",
      "----------\n",
      "Train Loss: 2.3072, Train Acc: 0.3969\n",
      "Test Loss: 2.4795, Test Acc: 0.3937\n",
      "Best loss till now 2.4795, saving model\n",
      "valid accuracy for this loss 0.3937, saving model\n",
      "Epoch 14/120\n",
      "----------\n",
      "Train Loss: 2.2461, Train Acc: 0.4089\n",
      "Test Loss: 2.4599, Test Acc: 0.4046\n",
      "Best loss till now 2.4599, saving model\n",
      "valid accuracy for this loss 0.4046, saving model\n",
      "Epoch 15/120\n",
      "----------\n",
      "Train Loss: 2.2122, Train Acc: 0.4155\n",
      "Test Loss: 2.4488, Test Acc: 0.4077\n",
      "Best loss till now 2.4488, saving model\n",
      "valid accuracy for this loss 0.4077, saving model\n",
      "Epoch 16/120\n",
      "----------\n",
      "Train Loss: 2.1822, Train Acc: 0.4216\n",
      "Test Loss: 2.3768, Test Acc: 0.4165\n",
      "Best loss till now 2.3768, saving model\n",
      "valid accuracy for this loss 0.4165, saving model\n",
      "Epoch 17/120\n",
      "----------\n",
      "Train Loss: 2.1338, Train Acc: 0.4315\n",
      "Test Loss: 2.4165, Test Acc: 0.4108\n",
      "value of counter right now:  1\n",
      "Epoch 18/120\n",
      "----------\n",
      "Train Loss: 2.1372, Train Acc: 0.4293\n",
      "Test Loss: 2.3619, Test Acc: 0.4183\n",
      "Best loss till now 2.3619, saving model\n",
      "valid accuracy for this loss 0.4183, saving model\n",
      "Epoch 19/120\n",
      "----------\n",
      "Train Loss: 2.0845, Train Acc: 0.4481\n",
      "Test Loss: 2.3507, Test Acc: 0.4161\n",
      "Best loss till now 2.3507, saving model\n",
      "valid accuracy for this loss 0.4161, saving model\n",
      "Epoch 20/120\n",
      "----------\n",
      "Train Loss: 2.0516, Train Acc: 0.4485\n",
      "Test Loss: 2.3445, Test Acc: 0.4161\n",
      "Best loss till now 2.3445, saving model\n",
      "valid accuracy for this loss 0.4161, saving model\n",
      "Epoch 21/120\n",
      "----------\n",
      "Train Loss: 2.0198, Train Acc: 0.4620\n",
      "Test Loss: 2.4104, Test Acc: 0.4135\n",
      "value of counter right now:  1\n",
      "Epoch 22/120\n",
      "----------\n",
      "Train Loss: 1.9950, Train Acc: 0.4669\n",
      "Test Loss: 2.3283, Test Acc: 0.4250\n",
      "Best loss till now 2.3283, saving model\n",
      "valid accuracy for this loss 0.4250, saving model\n",
      "Epoch 23/120\n",
      "----------\n",
      "Train Loss: 1.9597, Train Acc: 0.4738\n",
      "Test Loss: 2.3246, Test Acc: 0.4263\n",
      "Best loss till now 2.3246, saving model\n",
      "valid accuracy for this loss 0.4263, saving model\n",
      "Epoch 24/120\n",
      "----------\n",
      "Train Loss: 1.9661, Train Acc: 0.4684\n",
      "Test Loss: 2.3583, Test Acc: 0.4241\n",
      "value of counter right now:  1\n",
      "Epoch 25/120\n",
      "----------\n",
      "Train Loss: 1.9286, Train Acc: 0.4818\n",
      "Test Loss: 2.3491, Test Acc: 0.4286\n",
      "value of counter right now:  2\n",
      "Epoch 26/120\n",
      "----------\n",
      "Train Loss: 1.9212, Train Acc: 0.4745\n",
      "Test Loss: 2.3173, Test Acc: 0.4303\n",
      "Best loss till now 2.3173, saving model\n",
      "valid accuracy for this loss 0.4303, saving model\n",
      "Epoch 27/120\n",
      "----------\n",
      "Train Loss: 1.8990, Train Acc: 0.4846\n",
      "Test Loss: 2.3331, Test Acc: 0.4310\n",
      "value of counter right now:  1\n",
      "Epoch 28/120\n",
      "----------\n",
      "Train Loss: 1.8534, Train Acc: 0.5009\n",
      "Test Loss: 2.3583, Test Acc: 0.4303\n",
      "value of counter right now:  2\n",
      "Epoch 29/120\n",
      "----------\n",
      "Train Loss: 1.8450, Train Acc: 0.4996\n",
      "Test Loss: 2.3158, Test Acc: 0.4302\n",
      "Best loss till now 2.3158, saving model\n",
      "valid accuracy for this loss 0.4302, saving model\n",
      "Epoch 30/120\n",
      "----------\n",
      "Train Loss: 1.8242, Train Acc: 0.5044\n",
      "Test Loss: 2.3226, Test Acc: 0.4308\n",
      "value of counter right now:  1\n",
      "Epoch 31/120\n",
      "----------\n",
      "Train Loss: 1.7858, Train Acc: 0.5120\n",
      "Test Loss: 2.3466, Test Acc: 0.4306\n",
      "value of counter right now:  2\n",
      "Epoch 32/120\n",
      "----------\n",
      "Train Loss: 1.7752, Train Acc: 0.5109\n",
      "Test Loss: 2.2693, Test Acc: 0.4440\n",
      "Best loss till now 2.2693, saving model\n",
      "valid accuracy for this loss 0.4440, saving model\n",
      "Epoch 33/120\n",
      "----------\n",
      "Train Loss: 1.7610, Train Acc: 0.5185\n",
      "Test Loss: 2.2862, Test Acc: 0.4378\n",
      "value of counter right now:  1\n",
      "Epoch 34/120\n",
      "----------\n",
      "Train Loss: 1.7397, Train Acc: 0.5216\n",
      "Test Loss: 2.2943, Test Acc: 0.4372\n",
      "value of counter right now:  2\n",
      "Epoch 35/120\n",
      "----------\n",
      "Train Loss: 1.7169, Train Acc: 0.5236\n",
      "Test Loss: 2.3204, Test Acc: 0.4381\n",
      "value of counter right now:  3\n",
      "Epoch 36/120\n",
      "----------\n",
      "Train Loss: 1.7133, Train Acc: 0.5244\n",
      "Test Loss: 2.3269, Test Acc: 0.4442\n",
      "value of counter right now:  4\n",
      "Epoch 37/120\n",
      "----------\n",
      "Train Loss: 1.6969, Train Acc: 0.5371\n",
      "Test Loss: 2.3110, Test Acc: 0.4394\n",
      "value of counter right now:  5\n",
      "2.269265047073364 tensor(0.4440, device='cuda:0', dtype=torch.float64)\n"
     ]
    },
    {
     "data": {
      "text/plain": [
       "<All keys matched successfully>"
      ]
     },
     "execution_count": 15,
     "metadata": {},
     "output_type": "execute_result"
    }
   ],
   "source": [
    "counter = 0\n",
    "num_epochs = 120\n",
    "best_loss = 50000\n",
    "best_loss_acc = 0.0\n",
    "best_model = copy.deepcopy(model_wide.state_dict())\n",
    "for epoch in range(num_epochs):\n",
    "    print('Epoch {}/{}'.format(epoch+1, num_epochs))\n",
    "    print('-' * 10)\n",
    "    train_epoch_loss, train_epoch_acc = train(model=model_wide, dataloader=sampled_dataloader, criterion=criterion, optimizer=optimizer, dataset_size=len(sampled_dataset), device=device)\n",
    "    print('Train Loss: {:.4f}, Train Acc: {:.4f}'.format(train_epoch_loss, train_epoch_acc))\n",
    "    test_epoch_loss, test_epoch_acc = evaluate(model=model_wide, dataloader=valid_dataloader, criterion=criterion, dataset_size=len(valid_dataset), device=device)\n",
    "    print('Test Loss: {:.4f}, Test Acc: {:.4f}'.format(test_epoch_loss, test_epoch_acc))\n",
    "    scheduler.step()\n",
    "    if test_epoch_loss < best_loss:\n",
    "        counter = 0\n",
    "        best_loss = copy.deepcopy(test_epoch_loss)\n",
    "        best_loss_acc = copy.deepcopy(test_epoch_acc)\n",
    "        print('Best loss till now {:.4f}, saving model'.format(best_loss))\n",
    "        print('valid accuracy for this loss {:.4f}, saving model'.format(best_loss_acc))\n",
    "        best_model = copy.deepcopy(model_wide.state_dict())\n",
    "    else:\n",
    "        counter = counter + 1\n",
    "        print(\"value of counter right now: \", counter)\n",
    "        if counter >= 5:\n",
    "            break\n",
    "        else:\n",
    "            pass\n",
    "\n",
    "print(best_loss, best_loss_acc)\n",
    "# Restoring best model\n",
    "model_wide.load_state_dict(best_model)"
   ]
  },
  {
   "cell_type": "code",
   "execution_count": 16,
   "id": "accessory-politics",
   "metadata": {
    "execution": {
     "iopub.execute_input": "2021-06-30T14:59:54.522598Z",
     "iopub.status.busy": "2021-06-30T14:59:54.521805Z",
     "iopub.status.idle": "2021-06-30T14:59:55.161709Z",
     "shell.execute_reply": "2021-06-30T14:59:55.161140Z"
    },
    "papermill": {
     "duration": 0.682486,
     "end_time": "2021-06-30T14:59:55.161846",
     "exception": false,
     "start_time": "2021-06-30T14:59:54.479360",
     "status": "completed"
    },
    "tags": []
   },
   "outputs": [],
   "source": [
    "torch.save(model_wide.state_dict(), 'wide_resnet_cifar100_8000_samples_scheduler.pth')"
   ]
  },
  {
   "cell_type": "code",
   "execution_count": 17,
   "id": "processed-stand",
   "metadata": {
    "execution": {
     "iopub.execute_input": "2021-06-30T14:59:55.241874Z",
     "iopub.status.busy": "2021-06-30T14:59:55.241304Z",
     "iopub.status.idle": "2021-06-30T14:59:55.246858Z",
     "shell.execute_reply": "2021-06-30T14:59:55.247225Z"
    },
    "papermill": {
     "duration": 0.047383,
     "end_time": "2021-06-30T14:59:55.247435",
     "exception": false,
     "start_time": "2021-06-30T14:59:55.200052",
     "status": "completed"
    },
    "tags": []
   },
   "outputs": [
    {
     "name": "stdout",
     "output_type": "stream",
     "text": [
      "2.269265047073364 tensor(0.4440, device='cuda:0', dtype=torch.float64)\n"
     ]
    }
   ],
   "source": [
    "print(best_loss, best_loss_acc)"
   ]
  },
  {
   "cell_type": "code",
   "execution_count": 18,
   "id": "animated-jamaica",
   "metadata": {
    "execution": {
     "iopub.execute_input": "2021-06-30T14:59:55.328846Z",
     "iopub.status.busy": "2021-06-30T14:59:55.328185Z",
     "iopub.status.idle": "2021-06-30T14:59:55.331616Z",
     "shell.execute_reply": "2021-06-30T14:59:55.331141Z"
    },
    "papermill": {
     "duration": 0.046196,
     "end_time": "2021-06-30T14:59:55.331731",
     "exception": false,
     "start_time": "2021-06-30T14:59:55.285535",
     "status": "completed"
    },
    "tags": []
   },
   "outputs": [],
   "source": [
    "def calculate_mean_confidence(predictions, labels):\n",
    "    \"\"\"Computes Average Probability, Calibration Error and Accuracy\"\"\"\n",
    "    probabilities = np.max(predictions, 1)\n",
    "    acc = (labels == np.argmax(predictions, 1)).sum()\n",
    "    avg_prob = np.average(probabilities)\n",
    "    \n",
    "    return avg_prob, avg_prob - acc / labels.shape[0], acc / labels.shape[0]"
   ]
  },
  {
   "cell_type": "code",
   "execution_count": 19,
   "id": "twenty-novelty",
   "metadata": {
    "execution": {
     "iopub.execute_input": "2021-06-30T14:59:55.416415Z",
     "iopub.status.busy": "2021-06-30T14:59:55.415111Z",
     "iopub.status.idle": "2021-06-30T15:00:14.139091Z",
     "shell.execute_reply": "2021-06-30T15:00:14.138453Z"
    },
    "papermill": {
     "duration": 18.768924,
     "end_time": "2021-06-30T15:00:14.139282",
     "exception": false,
     "start_time": "2021-06-30T14:59:55.370358",
     "status": "completed"
    },
    "tags": []
   },
   "outputs": [
    {
     "name": "stderr",
     "output_type": "stream",
     "text": [
      "100%|██████████| 625/625 [00:18<00:00, 33.39it/s]\n"
     ]
    }
   ],
   "source": [
    "predictions_wide = []\n",
    "labels_wide = []\n",
    "\n",
    "softmax = nn.Softmax(dim=1)\n",
    "with torch.no_grad():\n",
    "    model_wide = model_wide.eval()\n",
    "    for images, labels in tqdm(valid_dataloader):\n",
    "        images = images.to(device)\n",
    "        labels = labels.to(device)\n",
    "        output = softmax(model_wide(images))\n",
    "        predictions_wide.append(output.cpu().numpy())\n",
    "        labels_wide.append(labels.cpu().numpy())"
   ]
  },
  {
   "cell_type": "code",
   "execution_count": 20,
   "id": "hired-abortion",
   "metadata": {
    "execution": {
     "iopub.execute_input": "2021-06-30T15:00:14.306583Z",
     "iopub.status.busy": "2021-06-30T15:00:14.305927Z",
     "iopub.status.idle": "2021-06-30T15:00:14.310955Z",
     "shell.execute_reply": "2021-06-30T15:00:14.310512Z"
    },
    "papermill": {
     "duration": 0.088731,
     "end_time": "2021-06-30T15:00:14.311065",
     "exception": false,
     "start_time": "2021-06-30T15:00:14.222334",
     "status": "completed"
    },
    "tags": []
   },
   "outputs": [
    {
     "name": "stdout",
     "output_type": "stream",
     "text": [
      "625 625\n",
      "(16, 100) (16,)\n"
     ]
    }
   ],
   "source": [
    "print(len(labels_wide), len(predictions_wide))\n",
    "print(predictions_wide[0].shape, labels_wide[0].shape)"
   ]
  },
  {
   "cell_type": "code",
   "execution_count": 21,
   "id": "informative-airport",
   "metadata": {
    "execution": {
     "iopub.execute_input": "2021-06-30T15:00:14.476451Z",
     "iopub.status.busy": "2021-06-30T15:00:14.475311Z",
     "iopub.status.idle": "2021-06-30T15:00:14.595356Z",
     "shell.execute_reply": "2021-06-30T15:00:14.594857Z"
    },
    "papermill": {
     "duration": 0.203954,
     "end_time": "2021-06-30T15:00:14.595479",
     "exception": false,
     "start_time": "2021-06-30T15:00:14.391525",
     "status": "completed"
    },
    "tags": []
   },
   "outputs": [],
   "source": [
    "predictions_wide_final = predictions_wide[0]\n",
    "labels_wide_final = labels_wide[0]\n",
    "for i in range(1, len(predictions_wide)):\n",
    "    predictions_wide_final = np.concatenate((predictions_wide_final, predictions_wide[i]))\n",
    "    labels_wide_final = np.concatenate((labels_wide_final, labels_wide[i]))"
   ]
  },
  {
   "cell_type": "code",
   "execution_count": 22,
   "id": "dressed-confidence",
   "metadata": {
    "execution": {
     "iopub.execute_input": "2021-06-30T15:00:14.758205Z",
     "iopub.status.busy": "2021-06-30T15:00:14.757440Z",
     "iopub.status.idle": "2021-06-30T15:00:14.765906Z",
     "shell.execute_reply": "2021-06-30T15:00:14.765202Z"
    },
    "papermill": {
     "duration": 0.091028,
     "end_time": "2021-06-30T15:00:14.766058",
     "exception": false,
     "start_time": "2021-06-30T15:00:14.675030",
     "status": "completed"
    },
    "tags": []
   },
   "outputs": [
    {
     "name": "stdout",
     "output_type": "stream",
     "text": [
      "0.59110266 0.14710265970230102 0.444\n"
     ]
    }
   ],
   "source": [
    "conf_score, cal_err, acc = calculate_mean_confidence(predictions_wide_final, labels_wide_final)\n",
    "print(conf_score, cal_err, acc)"
   ]
  },
  {
   "cell_type": "code",
   "execution_count": null,
   "id": "wanted-award",
   "metadata": {
    "papermill": {
     "duration": 0.079346,
     "end_time": "2021-06-30T15:00:14.924633",
     "exception": false,
     "start_time": "2021-06-30T15:00:14.845287",
     "status": "completed"
    },
    "tags": []
   },
   "outputs": [],
   "source": []
  }
 ],
 "metadata": {
  "kernelspec": {
   "display_name": "Python 3",
   "language": "python",
   "name": "python3"
  },
  "language_info": {
   "codemirror_mode": {
    "name": "ipython",
    "version": 3
   },
   "file_extension": ".py",
   "mimetype": "text/x-python",
   "name": "python",
   "nbconvert_exporter": "python",
   "pygments_lexer": "ipython3",
   "version": "3.7.10"
  },
  "papermill": {
   "default_parameters": {},
   "duration": 2367.304979,
   "end_time": "2021-06-30T15:00:17.218583",
   "environment_variables": {},
   "exception": null,
   "input_path": "__notebook__.ipynb",
   "output_path": "__notebook__.ipynb",
   "parameters": {},
   "start_time": "2021-06-30T14:20:49.913604",
   "version": "2.3.3"
  },
  "widgets": {
   "application/vnd.jupyter.widget-state+json": {
    "state": {
     "287db084045443beaf7654760eb95cf7": {
      "model_module": "@jupyter-widgets/controls",
      "model_module_version": "1.5.0",
      "model_name": "HBoxModel",
      "state": {
       "_dom_classes": [],
       "_model_module": "@jupyter-widgets/controls",
       "_model_module_version": "1.5.0",
       "_model_name": "HBoxModel",
       "_view_count": null,
       "_view_module": "@jupyter-widgets/controls",
       "_view_module_version": "1.5.0",
       "_view_name": "HBoxView",
       "box_style": "",
       "children": [
        "IPY_MODEL_f0b6d9f9a7c748189650dc0dc088606a",
        "IPY_MODEL_d9e2cbf254764c4397b12b7e7ed8ef99",
        "IPY_MODEL_8fcf8e9aa395438dabb2b65afe5adfac"
       ],
       "layout": "IPY_MODEL_aa72b0559f2f4190905215efe8265c08"
      }
     },
     "4c021f7f3b314c62b0f12a80530f9013": {
      "model_module": "@jupyter-widgets/base",
      "model_module_version": "1.2.0",
      "model_name": "LayoutModel",
      "state": {
       "_model_module": "@jupyter-widgets/base",
       "_model_module_version": "1.2.0",
       "_model_name": "LayoutModel",
       "_view_count": null,
       "_view_module": "@jupyter-widgets/base",
       "_view_module_version": "1.2.0",
       "_view_name": "LayoutView",
       "align_content": null,
       "align_items": null,
       "align_self": null,
       "border": null,
       "bottom": null,
       "display": null,
       "flex": null,
       "flex_flow": null,
       "grid_area": null,
       "grid_auto_columns": null,
       "grid_auto_flow": null,
       "grid_auto_rows": null,
       "grid_column": null,
       "grid_gap": null,
       "grid_row": null,
       "grid_template_areas": null,
       "grid_template_columns": null,
       "grid_template_rows": null,
       "height": null,
       "justify_content": null,
       "justify_items": null,
       "left": null,
       "margin": null,
       "max_height": null,
       "max_width": null,
       "min_height": null,
       "min_width": null,
       "object_fit": null,
       "object_position": null,
       "order": null,
       "overflow": null,
       "overflow_x": null,
       "overflow_y": null,
       "padding": null,
       "right": null,
       "top": null,
       "visibility": null,
       "width": null
      }
     },
     "61ea127339fe4655b394397bb79a1635": {
      "model_module": "@jupyter-widgets/base",
      "model_module_version": "1.2.0",
      "model_name": "LayoutModel",
      "state": {
       "_model_module": "@jupyter-widgets/base",
       "_model_module_version": "1.2.0",
       "_model_name": "LayoutModel",
       "_view_count": null,
       "_view_module": "@jupyter-widgets/base",
       "_view_module_version": "1.2.0",
       "_view_name": "LayoutView",
       "align_content": null,
       "align_items": null,
       "align_self": null,
       "border": null,
       "bottom": null,
       "display": null,
       "flex": null,
       "flex_flow": null,
       "grid_area": null,
       "grid_auto_columns": null,
       "grid_auto_flow": null,
       "grid_auto_rows": null,
       "grid_column": null,
       "grid_gap": null,
       "grid_row": null,
       "grid_template_areas": null,
       "grid_template_columns": null,
       "grid_template_rows": null,
       "height": null,
       "justify_content": null,
       "justify_items": null,
       "left": null,
       "margin": null,
       "max_height": null,
       "max_width": null,
       "min_height": null,
       "min_width": null,
       "object_fit": null,
       "object_position": null,
       "order": null,
       "overflow": null,
       "overflow_x": null,
       "overflow_y": null,
       "padding": null,
       "right": null,
       "top": null,
       "visibility": null,
       "width": null
      }
     },
     "645fe9879be74064b6888ff922756d6f": {
      "model_module": "@jupyter-widgets/controls",
      "model_module_version": "1.5.0",
      "model_name": "ProgressStyleModel",
      "state": {
       "_model_module": "@jupyter-widgets/controls",
       "_model_module_version": "1.5.0",
       "_model_name": "ProgressStyleModel",
       "_view_count": null,
       "_view_module": "@jupyter-widgets/base",
       "_view_module_version": "1.2.0",
       "_view_name": "StyleView",
       "bar_color": null,
       "description_width": ""
      }
     },
     "7639981d39fd49f48739bd1612a7b27e": {
      "model_module": "@jupyter-widgets/base",
      "model_module_version": "1.2.0",
      "model_name": "LayoutModel",
      "state": {
       "_model_module": "@jupyter-widgets/base",
       "_model_module_version": "1.2.0",
       "_model_name": "LayoutModel",
       "_view_count": null,
       "_view_module": "@jupyter-widgets/base",
       "_view_module_version": "1.2.0",
       "_view_name": "LayoutView",
       "align_content": null,
       "align_items": null,
       "align_self": null,
       "border": null,
       "bottom": null,
       "display": null,
       "flex": null,
       "flex_flow": null,
       "grid_area": null,
       "grid_auto_columns": null,
       "grid_auto_flow": null,
       "grid_auto_rows": null,
       "grid_column": null,
       "grid_gap": null,
       "grid_row": null,
       "grid_template_areas": null,
       "grid_template_columns": null,
       "grid_template_rows": null,
       "height": null,
       "justify_content": null,
       "justify_items": null,
       "left": null,
       "margin": null,
       "max_height": null,
       "max_width": null,
       "min_height": null,
       "min_width": null,
       "object_fit": null,
       "object_position": null,
       "order": null,
       "overflow": null,
       "overflow_x": null,
       "overflow_y": null,
       "padding": null,
       "right": null,
       "top": null,
       "visibility": null,
       "width": null
      }
     },
     "7d5ffa54c32143a8a606494aa2ea1cc1": {
      "model_module": "@jupyter-widgets/controls",
      "model_module_version": "1.5.0",
      "model_name": "DescriptionStyleModel",
      "state": {
       "_model_module": "@jupyter-widgets/controls",
       "_model_module_version": "1.5.0",
       "_model_name": "DescriptionStyleModel",
       "_view_count": null,
       "_view_module": "@jupyter-widgets/base",
       "_view_module_version": "1.2.0",
       "_view_name": "StyleView",
       "description_width": ""
      }
     },
     "82e0ae20484844ffb8a12287a3103e58": {
      "model_module": "@jupyter-widgets/controls",
      "model_module_version": "1.5.0",
      "model_name": "DescriptionStyleModel",
      "state": {
       "_model_module": "@jupyter-widgets/controls",
       "_model_module_version": "1.5.0",
       "_model_name": "DescriptionStyleModel",
       "_view_count": null,
       "_view_module": "@jupyter-widgets/base",
       "_view_module_version": "1.2.0",
       "_view_name": "StyleView",
       "description_width": ""
      }
     },
     "8fcf8e9aa395438dabb2b65afe5adfac": {
      "model_module": "@jupyter-widgets/controls",
      "model_module_version": "1.5.0",
      "model_name": "HTMLModel",
      "state": {
       "_dom_classes": [],
       "_model_module": "@jupyter-widgets/controls",
       "_model_module_version": "1.5.0",
       "_model_name": "HTMLModel",
       "_view_count": null,
       "_view_module": "@jupyter-widgets/controls",
       "_view_module_version": "1.5.0",
       "_view_name": "HTMLView",
       "description": "",
       "description_tooltip": null,
       "layout": "IPY_MODEL_4c021f7f3b314c62b0f12a80530f9013",
       "placeholder": "​",
       "style": "IPY_MODEL_7d5ffa54c32143a8a606494aa2ea1cc1",
       "value": " 132M/132M [00:09&lt;00:00, 16.5MB/s]"
      }
     },
     "aa72b0559f2f4190905215efe8265c08": {
      "model_module": "@jupyter-widgets/base",
      "model_module_version": "1.2.0",
      "model_name": "LayoutModel",
      "state": {
       "_model_module": "@jupyter-widgets/base",
       "_model_module_version": "1.2.0",
       "_model_name": "LayoutModel",
       "_view_count": null,
       "_view_module": "@jupyter-widgets/base",
       "_view_module_version": "1.2.0",
       "_view_name": "LayoutView",
       "align_content": null,
       "align_items": null,
       "align_self": null,
       "border": null,
       "bottom": null,
       "display": null,
       "flex": null,
       "flex_flow": null,
       "grid_area": null,
       "grid_auto_columns": null,
       "grid_auto_flow": null,
       "grid_auto_rows": null,
       "grid_column": null,
       "grid_gap": null,
       "grid_row": null,
       "grid_template_areas": null,
       "grid_template_columns": null,
       "grid_template_rows": null,
       "height": null,
       "justify_content": null,
       "justify_items": null,
       "left": null,
       "margin": null,
       "max_height": null,
       "max_width": null,
       "min_height": null,
       "min_width": null,
       "object_fit": null,
       "object_position": null,
       "order": null,
       "overflow": null,
       "overflow_x": null,
       "overflow_y": null,
       "padding": null,
       "right": null,
       "top": null,
       "visibility": null,
       "width": null
      }
     },
     "d9e2cbf254764c4397b12b7e7ed8ef99": {
      "model_module": "@jupyter-widgets/controls",
      "model_module_version": "1.5.0",
      "model_name": "FloatProgressModel",
      "state": {
       "_dom_classes": [],
       "_model_module": "@jupyter-widgets/controls",
       "_model_module_version": "1.5.0",
       "_model_name": "FloatProgressModel",
       "_view_count": null,
       "_view_module": "@jupyter-widgets/controls",
       "_view_module_version": "1.5.0",
       "_view_name": "ProgressView",
       "bar_style": "success",
       "description": "",
       "description_tooltip": null,
       "layout": "IPY_MODEL_61ea127339fe4655b394397bb79a1635",
       "max": 138223492.0,
       "min": 0.0,
       "orientation": "horizontal",
       "style": "IPY_MODEL_645fe9879be74064b6888ff922756d6f",
       "value": 138223492.0
      }
     },
     "f0b6d9f9a7c748189650dc0dc088606a": {
      "model_module": "@jupyter-widgets/controls",
      "model_module_version": "1.5.0",
      "model_name": "HTMLModel",
      "state": {
       "_dom_classes": [],
       "_model_module": "@jupyter-widgets/controls",
       "_model_module_version": "1.5.0",
       "_model_name": "HTMLModel",
       "_view_count": null,
       "_view_module": "@jupyter-widgets/controls",
       "_view_module_version": "1.5.0",
       "_view_name": "HTMLView",
       "description": "",
       "description_tooltip": null,
       "layout": "IPY_MODEL_7639981d39fd49f48739bd1612a7b27e",
       "placeholder": "​",
       "style": "IPY_MODEL_82e0ae20484844ffb8a12287a3103e58",
       "value": "100%"
      }
     }
    },
    "version_major": 2,
    "version_minor": 0
   }
  }
 },
 "nbformat": 4,
 "nbformat_minor": 5
}
